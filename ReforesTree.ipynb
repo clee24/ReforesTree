{
 "cells": [
  {
   "cell_type": "markdown",
   "metadata": {},
   "source": [
    "# ReforesTree 🌴\n",
    "\n",
    "We are excited to share with you the ReforesTree dataset! 🎉\n",
    "We introduce the ReforesTree dataset in hopes of encouraging the fellow machine learning community to take on\n",
    "the challenge of developing low-cost, scalable, trustworthy and accurate solutions for monitoring, verification and reporting of tropical reforestation inventory. \n",
    "\n",
    "#### This is a dataset for the following 6 agroforestry sites\n",
    "In alphabetical order\n",
    "1. _Carlos Vera Arteaga_\n",
    "2. _Carlos Vera Guevara_\n",
    "3. _Flora Pluas_\n",
    "4. _Leonor Aspiazu_\n",
    "5. _Manuel Macias_\n",
    "6. _Nestor Macias_\n",
    "\n",
    "\n",
    "## Dataset Components\n",
    "For each site the data we publish consists of four components free for use:\n",
    "1. 🛸 Raw drone RGB images _(see wwf_ecuador/\"Name of site\")_\n",
    "2. 🌴 Hand measured tree parameters (diameter at breast height, species, biomass, and location) of every tree _(see field_data.csv)_\n",
    "3. 🔲 Set of bounding boxes of trees for each site cleaned by hand and labeled as banana or not banana _(see annotations/cleaned)_\n",
    "4. ↔️ Mappings of these bounding boxes with tree labels based on location _(see mappings/final)_\n",
    "\n",
    "\n",
    "## Tutorial\n",
    "In this tutorial we go through the steps to recreate (and hopefully improve) the dataset and how to use it. \n",
    "\n",
    "Please read our paper [here](https://arxiv.org/abs/2201.11192).\n",
    "For any questions, please reach out to gyri.reiersen@tum.de or david.dao@inf.eth.ch"
   ]
  },
  {
   "cell_type": "markdown",
   "metadata": {},
   "source": [
    "## Load packages and modules"
   ]
  },
  {
   "cell_type": "code",
   "metadata": {
    "collapsed": true,
    "ExecuteTime": {
     "end_time": "2024-11-20T01:29:30.446614Z",
     "start_time": "2024-11-20T01:29:27.336316Z"
    }
   },
   "source": [
    "!pip install -Ur requirements.txt"
   ],
   "outputs": [
    {
     "name": "stdout",
     "output_type": "stream",
     "text": [
      "Requirement already satisfied: POT in /opt/miniconda3/lib/python3.12/site-packages (from -r requirements.txt (line 1)) (0.9.5)\r\n",
      "Requirement already satisfied: Pillow in /opt/miniconda3/lib/python3.12/site-packages (from -r requirements.txt (line 2)) (11.0.0)\r\n",
      "Requirement already satisfied: pandas>=1.1.3 in /opt/miniconda3/lib/python3.12/site-packages (from -r requirements.txt (line 3)) (2.2.3)\r\n",
      "Requirement already satisfied: numpy>=1.19.5 in /opt/miniconda3/lib/python3.12/site-packages (from -r requirements.txt (line 4)) (1.26.4)\r\n",
      "Collecting numpy>=1.19.5 (from -r requirements.txt (line 4))\r\n",
      "  Using cached numpy-2.1.3-cp312-cp312-macosx_14_0_arm64.whl.metadata (62 kB)\r\n",
      "Requirement already satisfied: geopandas>=0.8.1 in /opt/miniconda3/lib/python3.12/site-packages (from -r requirements.txt (line 5)) (1.0.1)\r\n",
      "Requirement already satisfied: rasterio>=1.1.8 in /opt/miniconda3/lib/python3.12/site-packages (from -r requirements.txt (line 6)) (1.4.2)\r\n",
      "Requirement already satisfied: matplotlib>=3.3.3 in /opt/miniconda3/lib/python3.12/site-packages (from -r requirements.txt (line 7)) (3.9.2)\r\n",
      "Requirement already satisfied: shapely>=1.7.1 in /opt/miniconda3/lib/python3.12/site-packages (from -r requirements.txt (line 8)) (2.0.6)\r\n",
      "Requirement already satisfied: opencv-python in /opt/miniconda3/lib/python3.12/site-packages (from -r requirements.txt (line 9)) (4.10.0.84)\r\n",
      "Requirement already satisfied: seaborn>=0.11.1 in /opt/miniconda3/lib/python3.12/site-packages (from -r requirements.txt (line 10)) (0.13.2)\r\n",
      "Requirement already satisfied: scikit-image>=0.17.2 in /opt/miniconda3/lib/python3.12/site-packages (from -r requirements.txt (line 11)) (0.24.0)\r\n",
      "Requirement already satisfied: pyproj>=2.2 in /opt/miniconda3/lib/python3.12/site-packages (from -r requirements.txt (line 12)) (3.7.0)\r\n",
      "Requirement already satisfied: setuptools in /opt/miniconda3/lib/python3.12/site-packages (from -r requirements.txt (line 13)) (75.5.0)\r\n",
      "Requirement already satisfied: pytorch-lightning>=1.4.4 in /opt/miniconda3/lib/python3.12/site-packages (from -r requirements.txt (line 14)) (2.4.0)\r\n",
      "Requirement already satisfied: torch>=1.9.0 in /opt/miniconda3/lib/python3.12/site-packages (from -r requirements.txt (line 15)) (2.5.1)\r\n",
      "Requirement already satisfied: tensorboard>=2.6.0 in /opt/miniconda3/lib/python3.12/site-packages (from -r requirements.txt (line 16)) (2.18.0)\r\n",
      "Requirement already satisfied: torchvision>=0.10.0 in /opt/miniconda3/lib/python3.12/site-packages (from -r requirements.txt (line 17)) (0.20.1)\r\n",
      "Requirement already satisfied: scipy>=1.6 in /opt/miniconda3/lib/python3.12/site-packages (from POT->-r requirements.txt (line 1)) (1.13.1)\r\n",
      "Requirement already satisfied: python-dateutil>=2.8.2 in /opt/miniconda3/lib/python3.12/site-packages (from pandas>=1.1.3->-r requirements.txt (line 3)) (2.9.0.post0)\r\n",
      "Requirement already satisfied: pytz>=2020.1 in /opt/miniconda3/lib/python3.12/site-packages (from pandas>=1.1.3->-r requirements.txt (line 3)) (2024.1)\r\n",
      "Requirement already satisfied: tzdata>=2022.7 in /opt/miniconda3/lib/python3.12/site-packages (from pandas>=1.1.3->-r requirements.txt (line 3)) (2024.1)\r\n",
      "Requirement already satisfied: pyogrio>=0.7.2 in /opt/miniconda3/lib/python3.12/site-packages (from geopandas>=0.8.1->-r requirements.txt (line 5)) (0.10.0)\r\n",
      "Requirement already satisfied: packaging in /opt/miniconda3/lib/python3.12/site-packages (from geopandas>=0.8.1->-r requirements.txt (line 5)) (23.2)\r\n",
      "Requirement already satisfied: affine in /opt/miniconda3/lib/python3.12/site-packages (from rasterio>=1.1.8->-r requirements.txt (line 6)) (2.4.0)\r\n",
      "Requirement already satisfied: attrs in /opt/miniconda3/lib/python3.12/site-packages (from rasterio>=1.1.8->-r requirements.txt (line 6)) (23.1.0)\r\n",
      "Requirement already satisfied: certifi in /opt/miniconda3/lib/python3.12/site-packages (from rasterio>=1.1.8->-r requirements.txt (line 6)) (2024.8.30)\r\n",
      "Requirement already satisfied: click>=4.0 in /opt/miniconda3/lib/python3.12/site-packages (from rasterio>=1.1.8->-r requirements.txt (line 6)) (8.1.7)\r\n",
      "Requirement already satisfied: cligj>=0.5 in /opt/miniconda3/lib/python3.12/site-packages (from rasterio>=1.1.8->-r requirements.txt (line 6)) (0.7.2)\r\n",
      "Requirement already satisfied: click-plugins in /opt/miniconda3/lib/python3.12/site-packages (from rasterio>=1.1.8->-r requirements.txt (line 6)) (1.1.1)\r\n",
      "Requirement already satisfied: pyparsing in /opt/miniconda3/lib/python3.12/site-packages (from rasterio>=1.1.8->-r requirements.txt (line 6)) (3.0.9)\r\n",
      "Requirement already satisfied: contourpy>=1.0.1 in /opt/miniconda3/lib/python3.12/site-packages (from matplotlib>=3.3.3->-r requirements.txt (line 7)) (1.2.0)\r\n",
      "Requirement already satisfied: cycler>=0.10 in /opt/miniconda3/lib/python3.12/site-packages (from matplotlib>=3.3.3->-r requirements.txt (line 7)) (0.11.0)\r\n",
      "Requirement already satisfied: fonttools>=4.22.0 in /opt/miniconda3/lib/python3.12/site-packages (from matplotlib>=3.3.3->-r requirements.txt (line 7)) (4.51.0)\r\n",
      "Requirement already satisfied: kiwisolver>=1.3.1 in /opt/miniconda3/lib/python3.12/site-packages (from matplotlib>=3.3.3->-r requirements.txt (line 7)) (1.4.4)\r\n",
      "Requirement already satisfied: networkx>=2.8 in /opt/miniconda3/lib/python3.12/site-packages (from scikit-image>=0.17.2->-r requirements.txt (line 11)) (3.4.2)\r\n",
      "Requirement already satisfied: imageio>=2.33 in /opt/miniconda3/lib/python3.12/site-packages (from scikit-image>=0.17.2->-r requirements.txt (line 11)) (2.35.1)\r\n",
      "Requirement already satisfied: tifffile>=2022.8.12 in /opt/miniconda3/lib/python3.12/site-packages (from scikit-image>=0.17.2->-r requirements.txt (line 11)) (2024.9.20)\r\n",
      "Requirement already satisfied: lazy-loader>=0.4 in /opt/miniconda3/lib/python3.12/site-packages (from scikit-image>=0.17.2->-r requirements.txt (line 11)) (0.4)\r\n",
      "Requirement already satisfied: tqdm>=4.57.0 in /opt/miniconda3/lib/python3.12/site-packages (from pytorch-lightning>=1.4.4->-r requirements.txt (line 14)) (4.66.4)\r\n",
      "Requirement already satisfied: PyYAML>=5.4 in /opt/miniconda3/lib/python3.12/site-packages (from pytorch-lightning>=1.4.4->-r requirements.txt (line 14)) (6.0.1)\r\n",
      "Requirement already satisfied: fsspec>=2022.5.0 in /opt/miniconda3/lib/python3.12/site-packages (from fsspec[http]>=2022.5.0->pytorch-lightning>=1.4.4->-r requirements.txt (line 14)) (2024.10.0)\r\n",
      "Requirement already satisfied: torchmetrics>=0.7.0 in /opt/miniconda3/lib/python3.12/site-packages (from pytorch-lightning>=1.4.4->-r requirements.txt (line 14)) (1.6.0)\r\n",
      "Requirement already satisfied: typing-extensions>=4.4.0 in /opt/miniconda3/lib/python3.12/site-packages (from pytorch-lightning>=1.4.4->-r requirements.txt (line 14)) (4.11.0)\r\n",
      "Requirement already satisfied: lightning-utilities>=0.10.0 in /opt/miniconda3/lib/python3.12/site-packages (from pytorch-lightning>=1.4.4->-r requirements.txt (line 14)) (0.11.8)\r\n",
      "Requirement already satisfied: filelock in /opt/miniconda3/lib/python3.12/site-packages (from torch>=1.9.0->-r requirements.txt (line 15)) (3.16.1)\r\n",
      "Requirement already satisfied: jinja2 in /opt/miniconda3/lib/python3.12/site-packages (from torch>=1.9.0->-r requirements.txt (line 15)) (3.1.4)\r\n",
      "Requirement already satisfied: sympy==1.13.1 in /opt/miniconda3/lib/python3.12/site-packages (from torch>=1.9.0->-r requirements.txt (line 15)) (1.13.1)\r\n",
      "Requirement already satisfied: mpmath<1.4,>=1.1.0 in /opt/miniconda3/lib/python3.12/site-packages (from sympy==1.13.1->torch>=1.9.0->-r requirements.txt (line 15)) (1.3.0)\r\n",
      "Requirement already satisfied: absl-py>=0.4 in /opt/miniconda3/lib/python3.12/site-packages (from tensorboard>=2.6.0->-r requirements.txt (line 16)) (2.1.0)\r\n",
      "Requirement already satisfied: grpcio>=1.48.2 in /opt/miniconda3/lib/python3.12/site-packages (from tensorboard>=2.6.0->-r requirements.txt (line 16)) (1.67.1)\r\n",
      "Requirement already satisfied: markdown>=2.6.8 in /opt/miniconda3/lib/python3.12/site-packages (from tensorboard>=2.6.0->-r requirements.txt (line 16)) (3.7)\r\n",
      "Requirement already satisfied: protobuf!=4.24.0,>=3.19.6 in /opt/miniconda3/lib/python3.12/site-packages (from tensorboard>=2.6.0->-r requirements.txt (line 16)) (5.28.3)\r\n",
      "Requirement already satisfied: six>1.9 in /opt/miniconda3/lib/python3.12/site-packages (from tensorboard>=2.6.0->-r requirements.txt (line 16)) (1.16.0)\r\n",
      "Requirement already satisfied: tensorboard-data-server<0.8.0,>=0.7.0 in /opt/miniconda3/lib/python3.12/site-packages (from tensorboard>=2.6.0->-r requirements.txt (line 16)) (0.7.2)\r\n",
      "Requirement already satisfied: werkzeug>=1.0.1 in /opt/miniconda3/lib/python3.12/site-packages (from tensorboard>=2.6.0->-r requirements.txt (line 16)) (3.1.3)\r\n",
      "Requirement already satisfied: aiohttp!=4.0.0a0,!=4.0.0a1 in /opt/miniconda3/lib/python3.12/site-packages (from fsspec[http]>=2022.5.0->pytorch-lightning>=1.4.4->-r requirements.txt (line 14)) (3.11.2)\r\n",
      "Requirement already satisfied: MarkupSafe>=2.1.1 in /opt/miniconda3/lib/python3.12/site-packages (from werkzeug>=1.0.1->tensorboard>=2.6.0->-r requirements.txt (line 16)) (2.1.3)\r\n",
      "Requirement already satisfied: aiohappyeyeballs>=2.3.0 in /opt/miniconda3/lib/python3.12/site-packages (from aiohttp!=4.0.0a0,!=4.0.0a1->fsspec[http]>=2022.5.0->pytorch-lightning>=1.4.4->-r requirements.txt (line 14)) (2.4.3)\r\n",
      "Requirement already satisfied: aiosignal>=1.1.2 in /opt/miniconda3/lib/python3.12/site-packages (from aiohttp!=4.0.0a0,!=4.0.0a1->fsspec[http]>=2022.5.0->pytorch-lightning>=1.4.4->-r requirements.txt (line 14)) (1.3.1)\r\n",
      "Requirement already satisfied: frozenlist>=1.1.1 in /opt/miniconda3/lib/python3.12/site-packages (from aiohttp!=4.0.0a0,!=4.0.0a1->fsspec[http]>=2022.5.0->pytorch-lightning>=1.4.4->-r requirements.txt (line 14)) (1.5.0)\r\n",
      "Requirement already satisfied: multidict<7.0,>=4.5 in /opt/miniconda3/lib/python3.12/site-packages (from aiohttp!=4.0.0a0,!=4.0.0a1->fsspec[http]>=2022.5.0->pytorch-lightning>=1.4.4->-r requirements.txt (line 14)) (6.1.0)\r\n",
      "Requirement already satisfied: propcache>=0.2.0 in /opt/miniconda3/lib/python3.12/site-packages (from aiohttp!=4.0.0a0,!=4.0.0a1->fsspec[http]>=2022.5.0->pytorch-lightning>=1.4.4->-r requirements.txt (line 14)) (0.2.0)\r\n",
      "Requirement already satisfied: yarl<2.0,>=1.17.0 in /opt/miniconda3/lib/python3.12/site-packages (from aiohttp!=4.0.0a0,!=4.0.0a1->fsspec[http]>=2022.5.0->pytorch-lightning>=1.4.4->-r requirements.txt (line 14)) (1.17.1)\r\n",
      "Requirement already satisfied: idna>=2.0 in /opt/miniconda3/lib/python3.12/site-packages (from yarl<2.0,>=1.17.0->aiohttp!=4.0.0a0,!=4.0.0a1->fsspec[http]>=2022.5.0->pytorch-lightning>=1.4.4->-r requirements.txt (line 14)) (3.7)\r\n"
     ]
    }
   ],
   "execution_count": 1
  },
  {
   "metadata": {
    "ExecuteTime": {
     "end_time": "2024-11-20T01:29:33.340064Z",
     "start_time": "2024-11-20T01:29:31.558278Z"
    }
   },
   "cell_type": "code",
   "source": "pip install exifread slidingwindow deepforest lxml",
   "outputs": [
    {
     "name": "stdout",
     "output_type": "stream",
     "text": [
      "Requirement already satisfied: exifread in /opt/miniconda3/lib/python3.12/site-packages (3.0.0)\r\n",
      "Requirement already satisfied: slidingwindow in /opt/miniconda3/lib/python3.12/site-packages (0.0.14)\r\n",
      "Requirement already satisfied: deepforest in /opt/miniconda3/lib/python3.12/site-packages (1.4.1)\r\n",
      "Requirement already satisfied: lxml in /opt/miniconda3/lib/python3.12/site-packages (5.3.0)\r\n",
      "Requirement already satisfied: numpy in /opt/miniconda3/lib/python3.12/site-packages (from slidingwindow) (1.26.4)\r\n",
      "Requirement already satisfied: psutil in /opt/miniconda3/lib/python3.12/site-packages (from slidingwindow) (5.9.0)\r\n",
      "Requirement already satisfied: albumentations>=1.0.0 in /opt/miniconda3/lib/python3.12/site-packages (from deepforest) (1.4.21)\r\n",
      "Requirement already satisfied: aiolimiter in /opt/miniconda3/lib/python3.12/site-packages (from deepforest) (1.1.0)\r\n",
      "Requirement already satisfied: aiohttp in /opt/miniconda3/lib/python3.12/site-packages (from deepforest) (3.11.2)\r\n",
      "Requirement already satisfied: docformatter in /opt/miniconda3/lib/python3.12/site-packages (from deepforest) (1.7.5)\r\n",
      "Requirement already satisfied: huggingface-hub>=0.25.0 in /opt/miniconda3/lib/python3.12/site-packages (from deepforest) (0.26.2)\r\n",
      "Requirement already satisfied: geopandas in /opt/miniconda3/lib/python3.12/site-packages (from deepforest) (1.0.1)\r\n",
      "Requirement already satisfied: matplotlib in /opt/miniconda3/lib/python3.12/site-packages (from deepforest) (3.9.2)\r\n",
      "Requirement already satisfied: nbqa in /opt/miniconda3/lib/python3.12/site-packages (from deepforest) (1.9.1)\r\n",
      "Requirement already satisfied: opencv-python-headless>=4.5.4 in /opt/miniconda3/lib/python3.12/site-packages (from deepforest) (4.10.0.84)\r\n",
      "Requirement already satisfied: pandas in /opt/miniconda3/lib/python3.12/site-packages (from deepforest) (2.2.3)\r\n",
      "Requirement already satisfied: Pillow>6.2.0 in /opt/miniconda3/lib/python3.12/site-packages (from deepforest) (11.0.0)\r\n",
      "Requirement already satisfied: progressbar2 in /opt/miniconda3/lib/python3.12/site-packages (from deepforest) (4.5.0)\r\n",
      "Requirement already satisfied: pycocotools in /opt/miniconda3/lib/python3.12/site-packages (from deepforest) (2.0.8)\r\n",
      "Requirement already satisfied: pydata-sphinx-theme in /opt/miniconda3/lib/python3.12/site-packages (from deepforest) (0.16.0)\r\n",
      "Requirement already satisfied: Pygments in /opt/miniconda3/lib/python3.12/site-packages (from deepforest) (2.18.0)\r\n",
      "Requirement already satisfied: pytorch-lightning>=1.5.8 in /opt/miniconda3/lib/python3.12/site-packages (from deepforest) (2.4.0)\r\n",
      "Requirement already satisfied: rasterio in /opt/miniconda3/lib/python3.12/site-packages (from deepforest) (1.4.2)\r\n",
      "Requirement already satisfied: recommonmark in /opt/miniconda3/lib/python3.12/site-packages (from deepforest) (0.7.1)\r\n",
      "Requirement already satisfied: rtree in /opt/miniconda3/lib/python3.12/site-packages (from deepforest) (1.3.0)\r\n",
      "Requirement already satisfied: safetensors in /opt/miniconda3/lib/python3.12/site-packages (from deepforest) (0.4.5)\r\n",
      "Requirement already satisfied: scipy>1.5 in /opt/miniconda3/lib/python3.12/site-packages (from deepforest) (1.13.1)\r\n",
      "Requirement already satisfied: six in /opt/miniconda3/lib/python3.12/site-packages (from deepforest) (1.16.0)\r\n",
      "Requirement already satisfied: sphinx in /opt/miniconda3/lib/python3.12/site-packages (from deepforest) (8.1.3)\r\n",
      "Requirement already satisfied: supervision in /opt/miniconda3/lib/python3.12/site-packages (from deepforest) (0.25.0)\r\n",
      "Requirement already satisfied: torch in /opt/miniconda3/lib/python3.12/site-packages (from deepforest) (2.5.1)\r\n",
      "Requirement already satisfied: torchvision>=0.13 in /opt/miniconda3/lib/python3.12/site-packages (from deepforest) (0.20.1)\r\n",
      "Requirement already satisfied: tqdm in /opt/miniconda3/lib/python3.12/site-packages (from deepforest) (4.66.4)\r\n",
      "Requirement already satisfied: xmltodict in /opt/miniconda3/lib/python3.12/site-packages (from deepforest) (0.14.2)\r\n",
      "Requirement already satisfied: PyYAML in /opt/miniconda3/lib/python3.12/site-packages (from albumentations>=1.0.0->deepforest) (6.0.1)\r\n",
      "Requirement already satisfied: pydantic>=2.7.0 in /opt/miniconda3/lib/python3.12/site-packages (from albumentations>=1.0.0->deepforest) (2.9.2)\r\n",
      "Requirement already satisfied: albucore==0.0.20 in /opt/miniconda3/lib/python3.12/site-packages (from albumentations>=1.0.0->deepforest) (0.0.20)\r\n",
      "Requirement already satisfied: eval-type-backport in /opt/miniconda3/lib/python3.12/site-packages (from albumentations>=1.0.0->deepforest) (0.2.0)\r\n",
      "Requirement already satisfied: stringzilla>=3.10.4 in /opt/miniconda3/lib/python3.12/site-packages (from albucore==0.0.20->albumentations>=1.0.0->deepforest) (3.10.10)\r\n",
      "Requirement already satisfied: simsimd>=5.9.2 in /opt/miniconda3/lib/python3.12/site-packages (from albucore==0.0.20->albumentations>=1.0.0->deepforest) (6.0.5)\r\n",
      "Requirement already satisfied: filelock in /opt/miniconda3/lib/python3.12/site-packages (from huggingface-hub>=0.25.0->deepforest) (3.16.1)\r\n",
      "Requirement already satisfied: fsspec>=2023.5.0 in /opt/miniconda3/lib/python3.12/site-packages (from huggingface-hub>=0.25.0->deepforest) (2024.10.0)\r\n",
      "Requirement already satisfied: packaging>=20.9 in /opt/miniconda3/lib/python3.12/site-packages (from huggingface-hub>=0.25.0->deepforest) (23.2)\r\n",
      "Requirement already satisfied: requests in /opt/miniconda3/lib/python3.12/site-packages (from huggingface-hub>=0.25.0->deepforest) (2.32.2)\r\n",
      "Requirement already satisfied: typing-extensions>=3.7.4.3 in /opt/miniconda3/lib/python3.12/site-packages (from huggingface-hub>=0.25.0->deepforest) (4.11.0)\r\n",
      "Requirement already satisfied: torchmetrics>=0.7.0 in /opt/miniconda3/lib/python3.12/site-packages (from pytorch-lightning>=1.5.8->deepforest) (1.6.0)\r\n",
      "Requirement already satisfied: lightning-utilities>=0.10.0 in /opt/miniconda3/lib/python3.12/site-packages (from pytorch-lightning>=1.5.8->deepforest) (0.11.8)\r\n",
      "Requirement already satisfied: networkx in /opt/miniconda3/lib/python3.12/site-packages (from torch->deepforest) (3.4.2)\r\n",
      "Requirement already satisfied: jinja2 in /opt/miniconda3/lib/python3.12/site-packages (from torch->deepforest) (3.1.4)\r\n",
      "Requirement already satisfied: setuptools in /opt/miniconda3/lib/python3.12/site-packages (from torch->deepforest) (75.5.0)\r\n",
      "Requirement already satisfied: sympy==1.13.1 in /opt/miniconda3/lib/python3.12/site-packages (from torch->deepforest) (1.13.1)\r\n",
      "Requirement already satisfied: mpmath<1.4,>=1.1.0 in /opt/miniconda3/lib/python3.12/site-packages (from sympy==1.13.1->torch->deepforest) (1.3.0)\r\n",
      "Requirement already satisfied: aiohappyeyeballs>=2.3.0 in /opt/miniconda3/lib/python3.12/site-packages (from aiohttp->deepforest) (2.4.3)\r\n",
      "Requirement already satisfied: aiosignal>=1.1.2 in /opt/miniconda3/lib/python3.12/site-packages (from aiohttp->deepforest) (1.3.1)\r\n",
      "Requirement already satisfied: attrs>=17.3.0 in /opt/miniconda3/lib/python3.12/site-packages (from aiohttp->deepforest) (23.1.0)\r\n",
      "Requirement already satisfied: frozenlist>=1.1.1 in /opt/miniconda3/lib/python3.12/site-packages (from aiohttp->deepforest) (1.5.0)\r\n",
      "Requirement already satisfied: multidict<7.0,>=4.5 in /opt/miniconda3/lib/python3.12/site-packages (from aiohttp->deepforest) (6.1.0)\r\n",
      "Requirement already satisfied: propcache>=0.2.0 in /opt/miniconda3/lib/python3.12/site-packages (from aiohttp->deepforest) (0.2.0)\r\n",
      "Requirement already satisfied: yarl<2.0,>=1.17.0 in /opt/miniconda3/lib/python3.12/site-packages (from aiohttp->deepforest) (1.17.1)\r\n",
      "Requirement already satisfied: charset_normalizer<4.0.0,>=3.0.0 in /opt/miniconda3/lib/python3.12/site-packages (from docformatter->deepforest) (3.3.2)\r\n",
      "Requirement already satisfied: untokenize<0.2.0,>=0.1.1 in /opt/miniconda3/lib/python3.12/site-packages (from docformatter->deepforest) (0.1.1)\r\n",
      "Requirement already satisfied: pyogrio>=0.7.2 in /opt/miniconda3/lib/python3.12/site-packages (from geopandas->deepforest) (0.10.0)\r\n",
      "Requirement already satisfied: pyproj>=3.3.0 in /opt/miniconda3/lib/python3.12/site-packages (from geopandas->deepforest) (3.7.0)\r\n",
      "Requirement already satisfied: shapely>=2.0.0 in /opt/miniconda3/lib/python3.12/site-packages (from geopandas->deepforest) (2.0.6)\r\n",
      "Requirement already satisfied: python-dateutil>=2.8.2 in /opt/miniconda3/lib/python3.12/site-packages (from pandas->deepforest) (2.9.0.post0)\r\n",
      "Requirement already satisfied: pytz>=2020.1 in /opt/miniconda3/lib/python3.12/site-packages (from pandas->deepforest) (2024.1)\r\n",
      "Requirement already satisfied: tzdata>=2022.7 in /opt/miniconda3/lib/python3.12/site-packages (from pandas->deepforest) (2024.1)\r\n",
      "Requirement already satisfied: contourpy>=1.0.1 in /opt/miniconda3/lib/python3.12/site-packages (from matplotlib->deepforest) (1.2.0)\r\n",
      "Requirement already satisfied: cycler>=0.10 in /opt/miniconda3/lib/python3.12/site-packages (from matplotlib->deepforest) (0.11.0)\r\n",
      "Requirement already satisfied: fonttools>=4.22.0 in /opt/miniconda3/lib/python3.12/site-packages (from matplotlib->deepforest) (4.51.0)\r\n",
      "Requirement already satisfied: kiwisolver>=1.3.1 in /opt/miniconda3/lib/python3.12/site-packages (from matplotlib->deepforest) (1.4.4)\r\n",
      "Requirement already satisfied: pyparsing>=2.3.1 in /opt/miniconda3/lib/python3.12/site-packages (from matplotlib->deepforest) (3.0.9)\r\n",
      "Requirement already satisfied: autopep8>=1.5 in /opt/miniconda3/lib/python3.12/site-packages (from nbqa->deepforest) (2.3.1)\r\n",
      "Requirement already satisfied: ipython>=7.8.0 in /opt/miniconda3/lib/python3.12/site-packages (from nbqa->deepforest) (8.25.0)\r\n",
      "Requirement already satisfied: tokenize-rt>=3.2.0 in /opt/miniconda3/lib/python3.12/site-packages (from nbqa->deepforest) (6.1.0)\r\n",
      "Requirement already satisfied: tomli in /opt/miniconda3/lib/python3.12/site-packages (from nbqa->deepforest) (2.1.0)\r\n",
      "Requirement already satisfied: python-utils>=3.8.1 in /opt/miniconda3/lib/python3.12/site-packages (from progressbar2->deepforest) (3.9.0)\r\n",
      "Requirement already satisfied: beautifulsoup4 in /opt/miniconda3/lib/python3.12/site-packages (from pydata-sphinx-theme->deepforest) (4.12.3)\r\n",
      "Requirement already satisfied: docutils!=0.17.0 in /opt/miniconda3/lib/python3.12/site-packages (from pydata-sphinx-theme->deepforest) (0.21.2)\r\n",
      "Requirement already satisfied: Babel in /opt/miniconda3/lib/python3.12/site-packages (from pydata-sphinx-theme->deepforest) (2.16.0)\r\n",
      "Requirement already satisfied: accessible-pygments in /opt/miniconda3/lib/python3.12/site-packages (from pydata-sphinx-theme->deepforest) (0.0.5)\r\n",
      "Requirement already satisfied: sphinxcontrib-applehelp>=1.0.7 in /opt/miniconda3/lib/python3.12/site-packages (from sphinx->deepforest) (2.0.0)\r\n",
      "Requirement already satisfied: sphinxcontrib-devhelp>=1.0.6 in /opt/miniconda3/lib/python3.12/site-packages (from sphinx->deepforest) (2.0.0)\r\n",
      "Requirement already satisfied: sphinxcontrib-htmlhelp>=2.0.6 in /opt/miniconda3/lib/python3.12/site-packages (from sphinx->deepforest) (2.1.0)\r\n",
      "Requirement already satisfied: sphinxcontrib-jsmath>=1.0.1 in /opt/miniconda3/lib/python3.12/site-packages (from sphinx->deepforest) (1.0.1)\r\n",
      "Requirement already satisfied: sphinxcontrib-qthelp>=1.0.6 in /opt/miniconda3/lib/python3.12/site-packages (from sphinx->deepforest) (2.0.0)\r\n",
      "Requirement already satisfied: sphinxcontrib-serializinghtml>=1.1.9 in /opt/miniconda3/lib/python3.12/site-packages (from sphinx->deepforest) (2.0.0)\r\n",
      "Requirement already satisfied: snowballstemmer>=2.2 in /opt/miniconda3/lib/python3.12/site-packages (from sphinx->deepforest) (2.2.0)\r\n",
      "Requirement already satisfied: alabaster>=0.7.14 in /opt/miniconda3/lib/python3.12/site-packages (from sphinx->deepforest) (1.0.0)\r\n",
      "Requirement already satisfied: imagesize>=1.3 in /opt/miniconda3/lib/python3.12/site-packages (from sphinx->deepforest) (1.4.1)\r\n",
      "Requirement already satisfied: affine in /opt/miniconda3/lib/python3.12/site-packages (from rasterio->deepforest) (2.4.0)\r\n",
      "Requirement already satisfied: certifi in /opt/miniconda3/lib/python3.12/site-packages (from rasterio->deepforest) (2024.8.30)\r\n",
      "Requirement already satisfied: click>=4.0 in /opt/miniconda3/lib/python3.12/site-packages (from rasterio->deepforest) (8.1.7)\r\n",
      "Requirement already satisfied: cligj>=0.5 in /opt/miniconda3/lib/python3.12/site-packages (from rasterio->deepforest) (0.7.2)\r\n",
      "Requirement already satisfied: click-plugins in /opt/miniconda3/lib/python3.12/site-packages (from rasterio->deepforest) (1.1.1)\r\n",
      "Requirement already satisfied: commonmark>=0.8.1 in /opt/miniconda3/lib/python3.12/site-packages (from recommonmark->deepforest) (0.9.1)\r\n",
      "Requirement already satisfied: defusedxml<0.8.0,>=0.7.1 in /opt/miniconda3/lib/python3.12/site-packages (from supervision->deepforest) (0.7.1)\r\n",
      "Requirement already satisfied: opencv-python>=4.5.5.64 in /opt/miniconda3/lib/python3.12/site-packages (from supervision->deepforest) (4.10.0.84)\r\n",
      "Requirement already satisfied: pycodestyle>=2.12.0 in /opt/miniconda3/lib/python3.12/site-packages (from autopep8>=1.5->nbqa->deepforest) (2.12.1)\r\n",
      "Requirement already satisfied: decorator in /opt/miniconda3/lib/python3.12/site-packages (from ipython>=7.8.0->nbqa->deepforest) (5.1.1)\r\n",
      "Requirement already satisfied: jedi>=0.16 in /opt/miniconda3/lib/python3.12/site-packages (from ipython>=7.8.0->nbqa->deepforest) (0.19.1)\r\n",
      "Requirement already satisfied: matplotlib-inline in /opt/miniconda3/lib/python3.12/site-packages (from ipython>=7.8.0->nbqa->deepforest) (0.1.6)\r\n",
      "Requirement already satisfied: prompt-toolkit<3.1.0,>=3.0.41 in /opt/miniconda3/lib/python3.12/site-packages (from ipython>=7.8.0->nbqa->deepforest) (3.0.43)\r\n",
      "Requirement already satisfied: stack-data in /opt/miniconda3/lib/python3.12/site-packages (from ipython>=7.8.0->nbqa->deepforest) (0.2.0)\r\n",
      "Requirement already satisfied: traitlets>=5.13.0 in /opt/miniconda3/lib/python3.12/site-packages (from ipython>=7.8.0->nbqa->deepforest) (5.14.3)\r\n",
      "Requirement already satisfied: pexpect>4.3 in /opt/miniconda3/lib/python3.12/site-packages (from ipython>=7.8.0->nbqa->deepforest) (4.8.0)\r\n",
      "Requirement already satisfied: MarkupSafe>=2.0 in /opt/miniconda3/lib/python3.12/site-packages (from jinja2->torch->deepforest) (2.1.3)\r\n",
      "Requirement already satisfied: annotated-types>=0.6.0 in /opt/miniconda3/lib/python3.12/site-packages (from pydantic>=2.7.0->albumentations>=1.0.0->deepforest) (0.7.0)\r\n",
      "Requirement already satisfied: pydantic-core==2.23.4 in /opt/miniconda3/lib/python3.12/site-packages (from pydantic>=2.7.0->albumentations>=1.0.0->deepforest) (2.23.4)\r\n",
      "Requirement already satisfied: idna<4,>=2.5 in /opt/miniconda3/lib/python3.12/site-packages (from requests->huggingface-hub>=0.25.0->deepforest) (3.7)\r\n",
      "Requirement already satisfied: urllib3<3,>=1.21.1 in /opt/miniconda3/lib/python3.12/site-packages (from requests->huggingface-hub>=0.25.0->deepforest) (2.2.2)\r\n",
      "Requirement already satisfied: soupsieve>1.2 in /opt/miniconda3/lib/python3.12/site-packages (from beautifulsoup4->pydata-sphinx-theme->deepforest) (2.5)\r\n",
      "Requirement already satisfied: parso<0.9.0,>=0.8.3 in /opt/miniconda3/lib/python3.12/site-packages (from jedi>=0.16->ipython>=7.8.0->nbqa->deepforest) (0.8.3)\r\n",
      "Requirement already satisfied: ptyprocess>=0.5 in /opt/miniconda3/lib/python3.12/site-packages (from pexpect>4.3->ipython>=7.8.0->nbqa->deepforest) (0.7.0)\r\n",
      "Requirement already satisfied: wcwidth in /opt/miniconda3/lib/python3.12/site-packages (from prompt-toolkit<3.1.0,>=3.0.41->ipython>=7.8.0->nbqa->deepforest) (0.2.5)\r\n",
      "Requirement already satisfied: executing in /opt/miniconda3/lib/python3.12/site-packages (from stack-data->ipython>=7.8.0->nbqa->deepforest) (0.8.3)\r\n",
      "Requirement already satisfied: asttokens in /opt/miniconda3/lib/python3.12/site-packages (from stack-data->ipython>=7.8.0->nbqa->deepforest) (2.0.5)\r\n",
      "Requirement already satisfied: pure-eval in /opt/miniconda3/lib/python3.12/site-packages (from stack-data->ipython>=7.8.0->nbqa->deepforest) (0.2.2)\r\n",
      "Note: you may need to restart the kernel to use updated packages.\n"
     ]
    }
   ],
   "execution_count": 2
  },
  {
   "metadata": {
    "ExecuteTime": {
     "end_time": "2024-11-20T01:29:35.571346Z",
     "start_time": "2024-11-20T01:29:34.633603Z"
    }
   },
   "cell_type": "code",
   "source": "pip show deepforest",
   "outputs": [
    {
     "name": "stdout",
     "output_type": "stream",
     "text": [
      "Name: deepforest\r\n",
      "Version: 1.4.1\r\n",
      "Summary: Tree crown prediction using deep learning retinanets\r\n",
      "Home-page: \r\n",
      "Author: \r\n",
      "Author-email: Ben Weinstein <benweinstein@weecology.org>, Henry Senyondo <henrykironde@gmail.com>, Muhammed Magdy <muhammedmagdy1015@gmail.com>, Om Doiphode <omdoiphode161@gmail.com>, Ethan White <ethan@weecology.org>\r\n",
      "License: MIT\r\n",
      "Location: /opt/miniconda3/lib/python3.12/site-packages\r\n",
      "Requires: aiohttp, aiolimiter, albumentations, docformatter, geopandas, huggingface-hub, matplotlib, nbqa, numpy, opencv-python-headless, pandas, Pillow, progressbar2, pycocotools, pydata-sphinx-theme, Pygments, pytorch-lightning, rasterio, recommonmark, rtree, safetensors, scipy, six, slidingwindow, sphinx, supervision, torch, torchvision, tqdm, xmltodict\r\n",
      "Required-by: \r\n",
      "Note: you may need to restart the kernel to use updated packages.\n"
     ]
    }
   ],
   "execution_count": 3
  },
  {
   "cell_type": "code",
   "metadata": {
    "ExecuteTime": {
     "end_time": "2024-11-20T01:30:15.275602Z",
     "start_time": "2024-11-20T01:30:15.269803Z"
    }
   },
   "source": [
    "import os\n",
    "import numpy as np\n",
    "import pandas as pd\n",
    "import geopandas as gpd\n",
    "import rasterio\n",
    "from rasterio.plot import reshape_as_image\n",
    "import PIL\n",
    "from PIL import Image\n",
    "PIL.Image.MAX_IMAGE_PIXELS = None\n",
    "import sys\n",
    "package = os.path.dirname(os.getcwd())\n",
    "sys.path.append(package)\n",
    "sys.path.append(package + 'utils')\n",
    "\n",
    "#import seaborn as sns\n",
    "#colors = sns.color_palette('tab10')\n",
    "#mypalette={'NN':colors[0], 'GMN':colors[4], 'OT':colors[1], 'OT on GPS position':colors[1], 'GW':colors[2], 'OT on GPS position + Tree species':colors[3]}\n",
    "#import matplotlib.pylab as plt\n",
    "#import tensorflow\n",
    "\n",
    "import warnings\n",
    "warnings.filterwarnings('ignore')"
   ],
   "outputs": [],
   "execution_count": 6
  },
  {
   "cell_type": "code",
   "metadata": {
    "ExecuteTime": {
     "end_time": "2024-11-20T01:30:19.166047Z",
     "start_time": "2024-11-20T01:30:19.163450Z"
    }
   },
   "source": [
    "from utils.extract_features import *\n",
    "from utils.deepforest_detection import *\n",
    "#from utils.visualisation import *\n",
    "#from utils.plot_folium import *\n",
    "#from utils.plot_density import *\n",
    "#from utils.mapping import *"
   ],
   "outputs": [],
   "execution_count": 7
  },
  {
   "metadata": {},
   "cell_type": "markdown",
   "source": "Data Importing"
  },
  {
   "metadata": {
    "ExecuteTime": {
     "end_time": "2024-11-20T01:30:24.272955Z",
     "start_time": "2024-11-20T01:30:21.451433Z"
    }
   },
   "cell_type": "code",
   "source": "pip install torchgeo",
   "outputs": [
    {
     "name": "stdout",
     "output_type": "stream",
     "text": [
      "Requirement already satisfied: torchgeo in /opt/miniconda3/lib/python3.12/site-packages (0.6.1)\r\n",
      "Requirement already satisfied: einops>=0.3 in /opt/miniconda3/lib/python3.12/site-packages (from torchgeo) (0.8.0)\r\n",
      "Requirement already satisfied: fiona>=1.8.21 in /opt/miniconda3/lib/python3.12/site-packages (from torchgeo) (1.10.1)\r\n",
      "Requirement already satisfied: kornia>=0.7.3 in /opt/miniconda3/lib/python3.12/site-packages (from torchgeo) (0.7.4)\r\n",
      "Requirement already satisfied: lightly!=1.4.26,>=1.4.5 in /opt/miniconda3/lib/python3.12/site-packages (from torchgeo) (1.5.14)\r\n",
      "Requirement already satisfied: lightning!=2.3.*,>=2 in /opt/miniconda3/lib/python3.12/site-packages (from lightning[pytorch-extra]!=2.3.*,>=2->torchgeo) (2.4.0)\r\n",
      "Requirement already satisfied: matplotlib>=3.5 in /opt/miniconda3/lib/python3.12/site-packages (from torchgeo) (3.9.2)\r\n",
      "Requirement already satisfied: numpy>=1.21.2 in /opt/miniconda3/lib/python3.12/site-packages (from torchgeo) (1.26.4)\r\n",
      "Requirement already satisfied: pandas>=1.3.3 in /opt/miniconda3/lib/python3.12/site-packages (from torchgeo) (2.2.3)\r\n",
      "Requirement already satisfied: pillow>=8.4 in /opt/miniconda3/lib/python3.12/site-packages (from torchgeo) (11.0.0)\r\n",
      "Requirement already satisfied: pyproj>=3.3 in /opt/miniconda3/lib/python3.12/site-packages (from torchgeo) (3.7.0)\r\n",
      "Collecting rasterio<1.4,>=1.3 (from torchgeo)\r\n",
      "  Using cached rasterio-1.3.11-cp312-cp312-macosx_11_0_arm64.whl.metadata (14 kB)\r\n",
      "Requirement already satisfied: rtree>=1 in /opt/miniconda3/lib/python3.12/site-packages (from torchgeo) (1.3.0)\r\n",
      "Requirement already satisfied: segmentation-models-pytorch>=0.2 in /opt/miniconda3/lib/python3.12/site-packages (from torchgeo) (0.3.4)\r\n",
      "Requirement already satisfied: shapely>=1.8 in /opt/miniconda3/lib/python3.12/site-packages (from torchgeo) (2.0.6)\r\n",
      "Requirement already satisfied: timm>=0.4.12 in /opt/miniconda3/lib/python3.12/site-packages (from torchgeo) (0.9.7)\r\n",
      "Requirement already satisfied: torch>=1.13 in /opt/miniconda3/lib/python3.12/site-packages (from torchgeo) (2.5.1)\r\n",
      "Requirement already satisfied: torchmetrics>=0.10 in /opt/miniconda3/lib/python3.12/site-packages (from torchgeo) (1.6.0)\r\n",
      "Requirement already satisfied: torchvision>=0.14 in /opt/miniconda3/lib/python3.12/site-packages (from torchgeo) (0.20.1)\r\n",
      "Requirement already satisfied: attrs>=19.2.0 in /opt/miniconda3/lib/python3.12/site-packages (from fiona>=1.8.21->torchgeo) (23.1.0)\r\n",
      "Requirement already satisfied: certifi in /opt/miniconda3/lib/python3.12/site-packages (from fiona>=1.8.21->torchgeo) (2024.8.30)\r\n",
      "Requirement already satisfied: click~=8.0 in /opt/miniconda3/lib/python3.12/site-packages (from fiona>=1.8.21->torchgeo) (8.1.7)\r\n",
      "Requirement already satisfied: click-plugins>=1.0 in /opt/miniconda3/lib/python3.12/site-packages (from fiona>=1.8.21->torchgeo) (1.1.1)\r\n",
      "Requirement already satisfied: cligj>=0.5 in /opt/miniconda3/lib/python3.12/site-packages (from fiona>=1.8.21->torchgeo) (0.7.2)\r\n",
      "Requirement already satisfied: kornia-rs>=0.1.0 in /opt/miniconda3/lib/python3.12/site-packages (from kornia>=0.7.3->torchgeo) (0.1.7)\r\n",
      "Requirement already satisfied: packaging in /opt/miniconda3/lib/python3.12/site-packages (from kornia>=0.7.3->torchgeo) (23.2)\r\n",
      "Requirement already satisfied: hydra-core>=1.0.0 in /opt/miniconda3/lib/python3.12/site-packages (from lightly!=1.4.26,>=1.4.5->torchgeo) (1.3.2)\r\n",
      "Requirement already satisfied: lightly-utils~=0.0.0 in /opt/miniconda3/lib/python3.12/site-packages (from lightly!=1.4.26,>=1.4.5->torchgeo) (0.0.2)\r\n",
      "Requirement already satisfied: python-dateutil>=2.5.3 in /opt/miniconda3/lib/python3.12/site-packages (from lightly!=1.4.26,>=1.4.5->torchgeo) (2.9.0.post0)\r\n",
      "Requirement already satisfied: requests>=2.23.0 in /opt/miniconda3/lib/python3.12/site-packages (from lightly!=1.4.26,>=1.4.5->torchgeo) (2.32.2)\r\n",
      "Requirement already satisfied: six>=1.10 in /opt/miniconda3/lib/python3.12/site-packages (from lightly!=1.4.26,>=1.4.5->torchgeo) (1.16.0)\r\n",
      "Requirement already satisfied: tqdm>=4.44 in /opt/miniconda3/lib/python3.12/site-packages (from lightly!=1.4.26,>=1.4.5->torchgeo) (4.66.4)\r\n",
      "Requirement already satisfied: pydantic>=1.10.5 in /opt/miniconda3/lib/python3.12/site-packages (from lightly!=1.4.26,>=1.4.5->torchgeo) (2.9.2)\r\n",
      "Requirement already satisfied: pytorch-lightning>=1.0.4 in /opt/miniconda3/lib/python3.12/site-packages (from lightly!=1.4.26,>=1.4.5->torchgeo) (2.4.0)\r\n",
      "Requirement already satisfied: urllib3>=1.25.3 in /opt/miniconda3/lib/python3.12/site-packages (from lightly!=1.4.26,>=1.4.5->torchgeo) (2.2.2)\r\n",
      "Requirement already satisfied: aenum>=3.1.11 in /opt/miniconda3/lib/python3.12/site-packages (from lightly!=1.4.26,>=1.4.5->torchgeo) (3.1.15)\r\n",
      "Requirement already satisfied: PyYAML<8.0,>=5.4 in /opt/miniconda3/lib/python3.12/site-packages (from lightning!=2.3.*,>=2->lightning[pytorch-extra]!=2.3.*,>=2->torchgeo) (6.0.1)\r\n",
      "Requirement already satisfied: fsspec<2026.0,>=2022.5.0 in /opt/miniconda3/lib/python3.12/site-packages (from fsspec[http]<2026.0,>=2022.5.0->lightning!=2.3.*,>=2->lightning[pytorch-extra]!=2.3.*,>=2->torchgeo) (2024.10.0)\r\n",
      "Requirement already satisfied: lightning-utilities<2.0,>=0.10.0 in /opt/miniconda3/lib/python3.12/site-packages (from lightning!=2.3.*,>=2->lightning[pytorch-extra]!=2.3.*,>=2->torchgeo) (0.11.8)\r\n",
      "Requirement already satisfied: typing-extensions<6.0,>=4.4.0 in /opt/miniconda3/lib/python3.12/site-packages (from lightning!=2.3.*,>=2->lightning[pytorch-extra]!=2.3.*,>=2->torchgeo) (4.11.0)\r\n",
      "Requirement already satisfied: bitsandbytes<1.0,>=0.42.0 in /opt/miniconda3/lib/python3.12/site-packages (from lightning[pytorch-extra]!=2.3.*,>=2->torchgeo) (0.42.0)\r\n",
      "Requirement already satisfied: jsonargparse<5.0,>=4.27.7 in /opt/miniconda3/lib/python3.12/site-packages (from jsonargparse[signatures]<5.0,>=4.27.7; extra == \"pytorch-extra\"->lightning[pytorch-extra]!=2.3.*,>=2->torchgeo) (4.34.0)\r\n",
      "Requirement already satisfied: omegaconf<3.0,>=2.2.3 in /opt/miniconda3/lib/python3.12/site-packages (from lightning[pytorch-extra]!=2.3.*,>=2->torchgeo) (2.3.0)\r\n",
      "Requirement already satisfied: rich<14.0,>=12.3.0 in /opt/miniconda3/lib/python3.12/site-packages (from lightning[pytorch-extra]!=2.3.*,>=2->torchgeo) (13.9.4)\r\n",
      "Requirement already satisfied: tensorboardX<3.0,>=2.2 in /opt/miniconda3/lib/python3.12/site-packages (from lightning[pytorch-extra]!=2.3.*,>=2->torchgeo) (2.6.2.2)\r\n",
      "Requirement already satisfied: contourpy>=1.0.1 in /opt/miniconda3/lib/python3.12/site-packages (from matplotlib>=3.5->torchgeo) (1.2.0)\r\n",
      "Requirement already satisfied: cycler>=0.10 in /opt/miniconda3/lib/python3.12/site-packages (from matplotlib>=3.5->torchgeo) (0.11.0)\r\n",
      "Requirement already satisfied: fonttools>=4.22.0 in /opt/miniconda3/lib/python3.12/site-packages (from matplotlib>=3.5->torchgeo) (4.51.0)\r\n",
      "Requirement already satisfied: kiwisolver>=1.3.1 in /opt/miniconda3/lib/python3.12/site-packages (from matplotlib>=3.5->torchgeo) (1.4.4)\r\n",
      "Requirement already satisfied: pyparsing>=2.3.1 in /opt/miniconda3/lib/python3.12/site-packages (from matplotlib>=3.5->torchgeo) (3.0.9)\r\n",
      "Requirement already satisfied: pytz>=2020.1 in /opt/miniconda3/lib/python3.12/site-packages (from pandas>=1.3.3->torchgeo) (2024.1)\r\n",
      "Requirement already satisfied: tzdata>=2022.7 in /opt/miniconda3/lib/python3.12/site-packages (from pandas>=1.3.3->torchgeo) (2024.1)\r\n",
      "Requirement already satisfied: affine in /opt/miniconda3/lib/python3.12/site-packages (from rasterio<1.4,>=1.3->torchgeo) (2.4.0)\r\n",
      "Requirement already satisfied: snuggs>=1.4.1 in /opt/miniconda3/lib/python3.12/site-packages (from rasterio<1.4,>=1.3->torchgeo) (1.4.7)\r\n",
      "Requirement already satisfied: setuptools in /opt/miniconda3/lib/python3.12/site-packages (from rasterio<1.4,>=1.3->torchgeo) (75.5.0)\r\n",
      "Requirement already satisfied: efficientnet-pytorch==0.7.1 in /opt/miniconda3/lib/python3.12/site-packages (from segmentation-models-pytorch>=0.2->torchgeo) (0.7.1)\r\n",
      "Requirement already satisfied: huggingface-hub>=0.24.6 in /opt/miniconda3/lib/python3.12/site-packages (from segmentation-models-pytorch>=0.2->torchgeo) (0.26.2)\r\n",
      "Requirement already satisfied: pretrainedmodels==0.7.4 in /opt/miniconda3/lib/python3.12/site-packages (from segmentation-models-pytorch>=0.2->torchgeo) (0.7.4)\r\n",
      "Requirement already satisfied: safetensors in /opt/miniconda3/lib/python3.12/site-packages (from timm>=0.4.12->torchgeo) (0.4.5)\r\n",
      "Requirement already satisfied: munch in /opt/miniconda3/lib/python3.12/site-packages (from pretrainedmodels==0.7.4->segmentation-models-pytorch>=0.2->torchgeo) (4.0.0)\r\n",
      "Requirement already satisfied: filelock in /opt/miniconda3/lib/python3.12/site-packages (from torch>=1.13->torchgeo) (3.16.1)\r\n",
      "Requirement already satisfied: networkx in /opt/miniconda3/lib/python3.12/site-packages (from torch>=1.13->torchgeo) (3.4.2)\r\n",
      "Requirement already satisfied: jinja2 in /opt/miniconda3/lib/python3.12/site-packages (from torch>=1.13->torchgeo) (3.1.4)\r\n",
      "Requirement already satisfied: sympy==1.13.1 in /opt/miniconda3/lib/python3.12/site-packages (from torch>=1.13->torchgeo) (1.13.1)\r\n",
      "Requirement already satisfied: mpmath<1.4,>=1.1.0 in /opt/miniconda3/lib/python3.12/site-packages (from sympy==1.13.1->torch>=1.13->torchgeo) (1.3.0)\r\n",
      "Requirement already satisfied: scipy in /opt/miniconda3/lib/python3.12/site-packages (from bitsandbytes<1.0,>=0.42.0->lightning[pytorch-extra]!=2.3.*,>=2->torchgeo) (1.13.1)\r\n",
      "Requirement already satisfied: aiohttp!=4.0.0a0,!=4.0.0a1 in /opt/miniconda3/lib/python3.12/site-packages (from fsspec[http]<2026.0,>=2022.5.0->lightning!=2.3.*,>=2->lightning[pytorch-extra]!=2.3.*,>=2->torchgeo) (3.11.2)\r\n",
      "Requirement already satisfied: antlr4-python3-runtime==4.9.* in /opt/miniconda3/lib/python3.12/site-packages (from hydra-core>=1.0.0->lightly!=1.4.26,>=1.4.5->torchgeo) (4.9.3)\r\n",
      "Requirement already satisfied: docstring-parser>=0.15 in /opt/miniconda3/lib/python3.12/site-packages (from jsonargparse[signatures]<5.0,>=4.27.7; extra == \"pytorch-extra\"->lightning[pytorch-extra]!=2.3.*,>=2->torchgeo) (0.16)\r\n",
      "Requirement already satisfied: typeshed-client>=2.1.0 in /opt/miniconda3/lib/python3.12/site-packages (from jsonargparse[signatures]<5.0,>=4.27.7; extra == \"pytorch-extra\"->lightning[pytorch-extra]!=2.3.*,>=2->torchgeo) (2.7.0)\r\n",
      "Requirement already satisfied: annotated-types>=0.6.0 in /opt/miniconda3/lib/python3.12/site-packages (from pydantic>=1.10.5->lightly!=1.4.26,>=1.4.5->torchgeo) (0.7.0)\r\n",
      "Requirement already satisfied: pydantic-core==2.23.4 in /opt/miniconda3/lib/python3.12/site-packages (from pydantic>=1.10.5->lightly!=1.4.26,>=1.4.5->torchgeo) (2.23.4)\r\n",
      "Requirement already satisfied: charset-normalizer<4,>=2 in /opt/miniconda3/lib/python3.12/site-packages (from requests>=2.23.0->lightly!=1.4.26,>=1.4.5->torchgeo) (3.3.2)\r\n",
      "Requirement already satisfied: idna<4,>=2.5 in /opt/miniconda3/lib/python3.12/site-packages (from requests>=2.23.0->lightly!=1.4.26,>=1.4.5->torchgeo) (3.7)\r\n",
      "Requirement already satisfied: markdown-it-py>=2.2.0 in /opt/miniconda3/lib/python3.12/site-packages (from rich<14.0,>=12.3.0->lightning[pytorch-extra]!=2.3.*,>=2->torchgeo) (3.0.0)\r\n",
      "Requirement already satisfied: pygments<3.0.0,>=2.13.0 in /opt/miniconda3/lib/python3.12/site-packages (from rich<14.0,>=12.3.0->lightning[pytorch-extra]!=2.3.*,>=2->torchgeo) (2.18.0)\r\n",
      "Requirement already satisfied: protobuf>=3.20 in /opt/miniconda3/lib/python3.12/site-packages (from tensorboardX<3.0,>=2.2->lightning[pytorch-extra]!=2.3.*,>=2->torchgeo) (5.28.3)\r\n",
      "Requirement already satisfied: MarkupSafe>=2.0 in /opt/miniconda3/lib/python3.12/site-packages (from jinja2->torch>=1.13->torchgeo) (2.1.3)\r\n",
      "Requirement already satisfied: aiohappyeyeballs>=2.3.0 in /opt/miniconda3/lib/python3.12/site-packages (from aiohttp!=4.0.0a0,!=4.0.0a1->fsspec[http]<2026.0,>=2022.5.0->lightning!=2.3.*,>=2->lightning[pytorch-extra]!=2.3.*,>=2->torchgeo) (2.4.3)\r\n",
      "Requirement already satisfied: aiosignal>=1.1.2 in /opt/miniconda3/lib/python3.12/site-packages (from aiohttp!=4.0.0a0,!=4.0.0a1->fsspec[http]<2026.0,>=2022.5.0->lightning!=2.3.*,>=2->lightning[pytorch-extra]!=2.3.*,>=2->torchgeo) (1.3.1)\r\n",
      "Requirement already satisfied: frozenlist>=1.1.1 in /opt/miniconda3/lib/python3.12/site-packages (from aiohttp!=4.0.0a0,!=4.0.0a1->fsspec[http]<2026.0,>=2022.5.0->lightning!=2.3.*,>=2->lightning[pytorch-extra]!=2.3.*,>=2->torchgeo) (1.5.0)\r\n",
      "Requirement already satisfied: multidict<7.0,>=4.5 in /opt/miniconda3/lib/python3.12/site-packages (from aiohttp!=4.0.0a0,!=4.0.0a1->fsspec[http]<2026.0,>=2022.5.0->lightning!=2.3.*,>=2->lightning[pytorch-extra]!=2.3.*,>=2->torchgeo) (6.1.0)\r\n",
      "Requirement already satisfied: propcache>=0.2.0 in /opt/miniconda3/lib/python3.12/site-packages (from aiohttp!=4.0.0a0,!=4.0.0a1->fsspec[http]<2026.0,>=2022.5.0->lightning!=2.3.*,>=2->lightning[pytorch-extra]!=2.3.*,>=2->torchgeo) (0.2.0)\r\n",
      "Requirement already satisfied: yarl<2.0,>=1.17.0 in /opt/miniconda3/lib/python3.12/site-packages (from aiohttp!=4.0.0a0,!=4.0.0a1->fsspec[http]<2026.0,>=2022.5.0->lightning!=2.3.*,>=2->lightning[pytorch-extra]!=2.3.*,>=2->torchgeo) (1.17.1)\r\n",
      "Requirement already satisfied: mdurl~=0.1 in /opt/miniconda3/lib/python3.12/site-packages (from markdown-it-py>=2.2.0->rich<14.0,>=12.3.0->lightning[pytorch-extra]!=2.3.*,>=2->torchgeo) (0.1.2)\r\n",
      "Requirement already satisfied: importlib-resources>=1.4.0 in /opt/miniconda3/lib/python3.12/site-packages (from typeshed-client>=2.1.0->jsonargparse[signatures]<5.0,>=4.27.7; extra == \"pytorch-extra\"->lightning[pytorch-extra]!=2.3.*,>=2->torchgeo) (6.4.5)\r\n",
      "Using cached rasterio-1.3.11-cp312-cp312-macosx_11_0_arm64.whl (18.4 MB)\r\n",
      "Installing collected packages: rasterio\r\n",
      "  Attempting uninstall: rasterio\r\n",
      "    Found existing installation: rasterio 1.4.2\r\n",
      "    Uninstalling rasterio-1.4.2:\r\n",
      "      Successfully uninstalled rasterio-1.4.2\r\n",
      "Successfully installed rasterio-1.3.11\r\n",
      "Note: you may need to restart the kernel to use updated packages.\n"
     ]
    }
   ],
   "execution_count": 8
  },
  {
   "metadata": {
    "ExecuteTime": {
     "end_time": "2024-11-20T01:50:39.871438Z",
     "start_time": "2024-11-20T01:30:27.793968Z"
    }
   },
   "cell_type": "code",
   "source": [
    "from torchgeo.datasets import ReforesTree\n",
    "ds = ReforesTree(root=\"data/reforestree/\", download=True, checksum=True)"
   ],
   "outputs": [
    {
     "name": "stdout",
     "output_type": "stream",
     "text": [
      "Downloading https://zenodo.org/records/6813783/files/reforesTree.zip?download=1 to data/reforestree/reforesTree.zip\n"
     ]
    },
    {
     "name": "stderr",
     "output_type": "stream",
     "text": [
      "100%|██████████| 7.51G/7.51G [18:01<00:00, 6.95MB/s]  \n"
     ]
    },
    {
     "name": "stdout",
     "output_type": "stream",
     "text": [
      "Extracting data/reforestree/reforesTree.zip to data/reforestree/\n"
     ]
    }
   ],
   "execution_count": 9
  },
  {
   "cell_type": "markdown",
   "metadata": {},
   "source": [
    "## Data Processing"
   ]
  },
  {
   "cell_type": "markdown",
   "metadata": {},
   "source": [
    "### 🛸 Split raw drone RGB orthomosaics into image tiles\n",
    "1. **Extract drone informations on each site:**\n",
    "Based on the raw data we create the dataframe _ortho_data.csv_ that contains all important information on the drone orthomosaics RGB: minimimal and maximal latititude, longitude, width and height (pixels).\n",
    "\n",
    "\n",
    "2. **Split the orthomosaics into 400x400 tiles:**\n",
    "To be able to handle the drone data we need to split the large .tif files into tiles that is stored in _data/tiles_. "
   ]
  },
  {
   "cell_type": "code",
   "metadata": {
    "scrolled": true,
    "ExecuteTime": {
     "end_time": "2024-11-20T01:53:58.905352Z",
     "start_time": "2024-11-20T01:53:58.869307Z"
    }
   },
   "source": [
    "directory = \"data/wwf_ecuador/RGB Orthomosaics\"\n",
    "save_dir = \"data/tiles\"\n",
    "\n",
    "# Extracting the main information for each site \n",
    "ortho_data = create_ortho_data(directory, os.path.join(save_dir, 'ortho_data.csv'))"
   ],
   "outputs": [],
   "execution_count": 11
  },
  {
   "cell_type": "code",
   "metadata": {
    "scrolled": true,
    "ExecuteTime": {
     "end_time": "2024-11-20T01:54:40.196114Z",
     "start_time": "2024-11-20T01:54:01.055404Z"
    }
   },
   "source": [
    "# Split images into tiles (might takes some minutes)\n",
    "for file in os.listdir(directory):\n",
    "    if file.endswith('.tif'):\n",
    "        # Open image file for reading (binary mode)\n",
    "        path_to_raster = os.path.join(directory, file)\n",
    "        name = file.replace('.tif', '')\n",
    "\n",
    "        tiles_dir = os.path.join(save_dir, name)\n",
    "        if not os.path.exists(tiles_dir):\n",
    "            os.makedirs(tiles_dir)        \n",
    "            split_raster(path_to_raster, base_dir=tiles_dir, patch_size=4000, patch_overlap=0.05)"
   ],
   "outputs": [],
   "execution_count": 12
  },
  {
   "cell_type": "markdown",
   "metadata": {},
   "source": [
    "### 🌴 Rescale drone bounds using field data\n",
    "\n",
    "The \"_field_data.csv_\" contains all the trees on the sites. Each row includes information on the tree parameters as well as the locations and calculated aboveground biomass (AGB) and carbon. \n",
    "\n",
    "PS: It is worth noting that the column \"updated diameter\" is being used for DBH. For completeness and transparancy, the comlumn \"diameter\" is kept and for the trees with missing values (especially cacao) an extrapolated diameter was calculated based on avg. diameter for that species for the year the tree was planted. \n",
    "\n",
    "A separate tutorial on how the processing of the field data is TBD."
   ]
  },
  {
   "cell_type": "code",
   "metadata": {
    "ExecuteTime": {
     "end_time": "2024-11-20T01:54:53.639471Z",
     "start_time": "2024-11-20T01:54:53.610577Z"
    }
   },
   "source": [
    "field_data = pd.read_csv('data/field_data.csv')\n",
    "field_data"
   ],
   "outputs": [
    {
     "data": {
      "text/plain": [
       "         name       lat        lon   diameter  height    year plot_id  \\\n",
       "0       Cacao -2.181226 -79.576630   0.000000     0.0  2016.0      P8   \n",
       "1       Cacao -2.181312 -79.576412   0.000000     0.0  2016.0      P8   \n",
       "2       Cacao -2.181438 -79.576322   0.000000     0.0  2016.0      P8   \n",
       "3       Cacao -2.181593 -79.576154   0.000000     0.0  2016.0      P8   \n",
       "4       Cacao -2.181498 -79.576179   0.000000     0.0  2016.0      P8   \n",
       "...       ...       ...        ...        ...     ...     ...     ...   \n",
       "4658  Musacea -1.129593 -79.594408  23.236567     0.0  2019.0      P7   \n",
       "4659    Cacao -1.129664 -79.594279   0.000000     0.0  2019.0      P7   \n",
       "4660  Musacea -1.129678 -79.594442  21.645022     0.0  2019.0      P7   \n",
       "4661    Cacao -1.129588 -79.594546   0.000000     0.0  2019.0      P7   \n",
       "4662    Cacao -1.129495 -79.594575   0.000000     0.0  2019.0      P7   \n",
       "\n",
       "                   site            X             Y  updated diameter   group  \\\n",
       "0     Nestor Macias RGB  2761.628615   6831.070678          6.843647   cacao   \n",
       "1     Nestor Macias RGB  5067.141765   7729.961820          6.843647   cacao   \n",
       "2     Nestor Macias RGB  6025.223497   9026.909643          6.843647   cacao   \n",
       "3     Nestor Macias RGB  7803.490078  10637.681956          6.843647   cacao   \n",
       "4     Nestor Macias RGB  7531.400369   9648.963864          6.843647   cacao   \n",
       "...                 ...          ...           ...               ...     ...   \n",
       "4658  Manuel Macias RGB  5481.100278   6416.246583         23.236567  banana   \n",
       "4659  Manuel Macias RGB  6767.025955   7172.157045          2.387319   cacao   \n",
       "4660  Manuel Macias RGB  5147.097504   7321.370785         21.645022  banana   \n",
       "4661  Manuel Macias RGB  4102.201665   6366.720321          2.387319   cacao   \n",
       "4662  Manuel Macias RGB  3816.384864   5385.084392          2.387319   cacao   \n",
       "\n",
       "            AGB    carbon  \n",
       "0      5.444228  2.123249  \n",
       "1      5.444228  2.123249  \n",
       "2      5.444228  2.123249  \n",
       "3      5.444228  2.123249  \n",
       "4      5.444228  2.123249  \n",
       "...         ...       ...  \n",
       "4658  24.381901  9.508941  \n",
       "4659   0.676596  0.263872  \n",
       "4660  20.962055  8.175201  \n",
       "4661   0.676596  0.263872  \n",
       "4662   0.676596  0.263872  \n",
       "\n",
       "[4663 rows x 14 columns]"
      ],
      "text/html": [
       "<div>\n",
       "<style scoped>\n",
       "    .dataframe tbody tr th:only-of-type {\n",
       "        vertical-align: middle;\n",
       "    }\n",
       "\n",
       "    .dataframe tbody tr th {\n",
       "        vertical-align: top;\n",
       "    }\n",
       "\n",
       "    .dataframe thead th {\n",
       "        text-align: right;\n",
       "    }\n",
       "</style>\n",
       "<table border=\"1\" class=\"dataframe\">\n",
       "  <thead>\n",
       "    <tr style=\"text-align: right;\">\n",
       "      <th></th>\n",
       "      <th>name</th>\n",
       "      <th>lat</th>\n",
       "      <th>lon</th>\n",
       "      <th>diameter</th>\n",
       "      <th>height</th>\n",
       "      <th>year</th>\n",
       "      <th>plot_id</th>\n",
       "      <th>site</th>\n",
       "      <th>X</th>\n",
       "      <th>Y</th>\n",
       "      <th>updated diameter</th>\n",
       "      <th>group</th>\n",
       "      <th>AGB</th>\n",
       "      <th>carbon</th>\n",
       "    </tr>\n",
       "  </thead>\n",
       "  <tbody>\n",
       "    <tr>\n",
       "      <th>0</th>\n",
       "      <td>Cacao</td>\n",
       "      <td>-2.181226</td>\n",
       "      <td>-79.576630</td>\n",
       "      <td>0.000000</td>\n",
       "      <td>0.0</td>\n",
       "      <td>2016.0</td>\n",
       "      <td>P8</td>\n",
       "      <td>Nestor Macias RGB</td>\n",
       "      <td>2761.628615</td>\n",
       "      <td>6831.070678</td>\n",
       "      <td>6.843647</td>\n",
       "      <td>cacao</td>\n",
       "      <td>5.444228</td>\n",
       "      <td>2.123249</td>\n",
       "    </tr>\n",
       "    <tr>\n",
       "      <th>1</th>\n",
       "      <td>Cacao</td>\n",
       "      <td>-2.181312</td>\n",
       "      <td>-79.576412</td>\n",
       "      <td>0.000000</td>\n",
       "      <td>0.0</td>\n",
       "      <td>2016.0</td>\n",
       "      <td>P8</td>\n",
       "      <td>Nestor Macias RGB</td>\n",
       "      <td>5067.141765</td>\n",
       "      <td>7729.961820</td>\n",
       "      <td>6.843647</td>\n",
       "      <td>cacao</td>\n",
       "      <td>5.444228</td>\n",
       "      <td>2.123249</td>\n",
       "    </tr>\n",
       "    <tr>\n",
       "      <th>2</th>\n",
       "      <td>Cacao</td>\n",
       "      <td>-2.181438</td>\n",
       "      <td>-79.576322</td>\n",
       "      <td>0.000000</td>\n",
       "      <td>0.0</td>\n",
       "      <td>2016.0</td>\n",
       "      <td>P8</td>\n",
       "      <td>Nestor Macias RGB</td>\n",
       "      <td>6025.223497</td>\n",
       "      <td>9026.909643</td>\n",
       "      <td>6.843647</td>\n",
       "      <td>cacao</td>\n",
       "      <td>5.444228</td>\n",
       "      <td>2.123249</td>\n",
       "    </tr>\n",
       "    <tr>\n",
       "      <th>3</th>\n",
       "      <td>Cacao</td>\n",
       "      <td>-2.181593</td>\n",
       "      <td>-79.576154</td>\n",
       "      <td>0.000000</td>\n",
       "      <td>0.0</td>\n",
       "      <td>2016.0</td>\n",
       "      <td>P8</td>\n",
       "      <td>Nestor Macias RGB</td>\n",
       "      <td>7803.490078</td>\n",
       "      <td>10637.681956</td>\n",
       "      <td>6.843647</td>\n",
       "      <td>cacao</td>\n",
       "      <td>5.444228</td>\n",
       "      <td>2.123249</td>\n",
       "    </tr>\n",
       "    <tr>\n",
       "      <th>4</th>\n",
       "      <td>Cacao</td>\n",
       "      <td>-2.181498</td>\n",
       "      <td>-79.576179</td>\n",
       "      <td>0.000000</td>\n",
       "      <td>0.0</td>\n",
       "      <td>2016.0</td>\n",
       "      <td>P8</td>\n",
       "      <td>Nestor Macias RGB</td>\n",
       "      <td>7531.400369</td>\n",
       "      <td>9648.963864</td>\n",
       "      <td>6.843647</td>\n",
       "      <td>cacao</td>\n",
       "      <td>5.444228</td>\n",
       "      <td>2.123249</td>\n",
       "    </tr>\n",
       "    <tr>\n",
       "      <th>...</th>\n",
       "      <td>...</td>\n",
       "      <td>...</td>\n",
       "      <td>...</td>\n",
       "      <td>...</td>\n",
       "      <td>...</td>\n",
       "      <td>...</td>\n",
       "      <td>...</td>\n",
       "      <td>...</td>\n",
       "      <td>...</td>\n",
       "      <td>...</td>\n",
       "      <td>...</td>\n",
       "      <td>...</td>\n",
       "      <td>...</td>\n",
       "      <td>...</td>\n",
       "    </tr>\n",
       "    <tr>\n",
       "      <th>4658</th>\n",
       "      <td>Musacea</td>\n",
       "      <td>-1.129593</td>\n",
       "      <td>-79.594408</td>\n",
       "      <td>23.236567</td>\n",
       "      <td>0.0</td>\n",
       "      <td>2019.0</td>\n",
       "      <td>P7</td>\n",
       "      <td>Manuel Macias RGB</td>\n",
       "      <td>5481.100278</td>\n",
       "      <td>6416.246583</td>\n",
       "      <td>23.236567</td>\n",
       "      <td>banana</td>\n",
       "      <td>24.381901</td>\n",
       "      <td>9.508941</td>\n",
       "    </tr>\n",
       "    <tr>\n",
       "      <th>4659</th>\n",
       "      <td>Cacao</td>\n",
       "      <td>-1.129664</td>\n",
       "      <td>-79.594279</td>\n",
       "      <td>0.000000</td>\n",
       "      <td>0.0</td>\n",
       "      <td>2019.0</td>\n",
       "      <td>P7</td>\n",
       "      <td>Manuel Macias RGB</td>\n",
       "      <td>6767.025955</td>\n",
       "      <td>7172.157045</td>\n",
       "      <td>2.387319</td>\n",
       "      <td>cacao</td>\n",
       "      <td>0.676596</td>\n",
       "      <td>0.263872</td>\n",
       "    </tr>\n",
       "    <tr>\n",
       "      <th>4660</th>\n",
       "      <td>Musacea</td>\n",
       "      <td>-1.129678</td>\n",
       "      <td>-79.594442</td>\n",
       "      <td>21.645022</td>\n",
       "      <td>0.0</td>\n",
       "      <td>2019.0</td>\n",
       "      <td>P7</td>\n",
       "      <td>Manuel Macias RGB</td>\n",
       "      <td>5147.097504</td>\n",
       "      <td>7321.370785</td>\n",
       "      <td>21.645022</td>\n",
       "      <td>banana</td>\n",
       "      <td>20.962055</td>\n",
       "      <td>8.175201</td>\n",
       "    </tr>\n",
       "    <tr>\n",
       "      <th>4661</th>\n",
       "      <td>Cacao</td>\n",
       "      <td>-1.129588</td>\n",
       "      <td>-79.594546</td>\n",
       "      <td>0.000000</td>\n",
       "      <td>0.0</td>\n",
       "      <td>2019.0</td>\n",
       "      <td>P7</td>\n",
       "      <td>Manuel Macias RGB</td>\n",
       "      <td>4102.201665</td>\n",
       "      <td>6366.720321</td>\n",
       "      <td>2.387319</td>\n",
       "      <td>cacao</td>\n",
       "      <td>0.676596</td>\n",
       "      <td>0.263872</td>\n",
       "    </tr>\n",
       "    <tr>\n",
       "      <th>4662</th>\n",
       "      <td>Cacao</td>\n",
       "      <td>-1.129495</td>\n",
       "      <td>-79.594575</td>\n",
       "      <td>0.000000</td>\n",
       "      <td>0.0</td>\n",
       "      <td>2019.0</td>\n",
       "      <td>P7</td>\n",
       "      <td>Manuel Macias RGB</td>\n",
       "      <td>3816.384864</td>\n",
       "      <td>5385.084392</td>\n",
       "      <td>2.387319</td>\n",
       "      <td>cacao</td>\n",
       "      <td>0.676596</td>\n",
       "      <td>0.263872</td>\n",
       "    </tr>\n",
       "  </tbody>\n",
       "</table>\n",
       "<p>4663 rows × 14 columns</p>\n",
       "</div>"
      ]
     },
     "execution_count": 13,
     "metadata": {},
     "output_type": "execute_result"
    }
   ],
   "execution_count": 13
  },
  {
   "cell_type": "code",
   "metadata": {
    "ExecuteTime": {
     "end_time": "2024-11-20T01:54:56.323664Z",
     "start_time": "2024-11-20T01:54:56.309909Z"
    }
   },
   "source": [
    "# Then to the actual rescaling\n",
    "list_sites = ['Carlos Vera Arteaga RGB', 'Carlos Vera Guevara RGB', 'Flora Pluas RGB', 'Leonor Aspiazu RGB', \n",
    "             'Manuel Macias RGB', 'Nestor Macias RGB']\n",
    "\n",
    "ortho_data = rescale_bounds(ortho_data, field_data, list_sites)\n",
    "ortho_data.to_csv(os.path.join(save_dir, 'ortho_data.csv'), index = False)"
   ],
   "outputs": [],
   "execution_count": 14
  },
  {
   "cell_type": "markdown",
   "metadata": {},
   "source": [
    "## 🔲 DeepForest Tree Detection\n",
    "\n",
    "From tiles to bounding box annotations! For that we use a pretrained and finetuned DeepForest model.\n",
    "\n",
    "Note reg finetuning: To make sure our model was able to detect the trees in these sites accurately, we finetuned it on some hand-created bounding boxes. "
   ]
  },
  {
   "metadata": {
    "ExecuteTime": {
     "end_time": "2024-11-20T01:59:46.807621Z",
     "start_time": "2024-11-20T01:59:45.026531Z"
    }
   },
   "cell_type": "code",
   "source": "pip install deepforest",
   "outputs": [
    {
     "name": "stdout",
     "output_type": "stream",
     "text": [
      "Requirement already satisfied: deepforest in /opt/miniconda3/lib/python3.12/site-packages (1.4.1)\r\n",
      "Requirement already satisfied: albumentations>=1.0.0 in /opt/miniconda3/lib/python3.12/site-packages (from deepforest) (1.4.21)\r\n",
      "Requirement already satisfied: aiolimiter in /opt/miniconda3/lib/python3.12/site-packages (from deepforest) (1.1.0)\r\n",
      "Requirement already satisfied: aiohttp in /opt/miniconda3/lib/python3.12/site-packages (from deepforest) (3.11.2)\r\n",
      "Requirement already satisfied: docformatter in /opt/miniconda3/lib/python3.12/site-packages (from deepforest) (1.7.5)\r\n",
      "Requirement already satisfied: huggingface-hub>=0.25.0 in /opt/miniconda3/lib/python3.12/site-packages (from deepforest) (0.26.2)\r\n",
      "Requirement already satisfied: geopandas in /opt/miniconda3/lib/python3.12/site-packages (from deepforest) (1.0.1)\r\n",
      "Requirement already satisfied: matplotlib in /opt/miniconda3/lib/python3.12/site-packages (from deepforest) (3.9.2)\r\n",
      "Requirement already satisfied: nbqa in /opt/miniconda3/lib/python3.12/site-packages (from deepforest) (1.9.1)\r\n",
      "Requirement already satisfied: numpy in /opt/miniconda3/lib/python3.12/site-packages (from deepforest) (1.26.4)\r\n",
      "Requirement already satisfied: opencv-python-headless>=4.5.4 in /opt/miniconda3/lib/python3.12/site-packages (from deepforest) (4.10.0.84)\r\n",
      "Requirement already satisfied: pandas in /opt/miniconda3/lib/python3.12/site-packages (from deepforest) (2.2.3)\r\n",
      "Requirement already satisfied: Pillow>6.2.0 in /opt/miniconda3/lib/python3.12/site-packages (from deepforest) (11.0.0)\r\n",
      "Requirement already satisfied: progressbar2 in /opt/miniconda3/lib/python3.12/site-packages (from deepforest) (4.5.0)\r\n",
      "Requirement already satisfied: pycocotools in /opt/miniconda3/lib/python3.12/site-packages (from deepforest) (2.0.8)\r\n",
      "Requirement already satisfied: pydata-sphinx-theme in /opt/miniconda3/lib/python3.12/site-packages (from deepforest) (0.16.0)\r\n",
      "Requirement already satisfied: Pygments in /opt/miniconda3/lib/python3.12/site-packages (from deepforest) (2.18.0)\r\n",
      "Requirement already satisfied: pytorch-lightning>=1.5.8 in /opt/miniconda3/lib/python3.12/site-packages (from deepforest) (2.4.0)\r\n",
      "Requirement already satisfied: rasterio in /opt/miniconda3/lib/python3.12/site-packages (from deepforest) (1.3.11)\r\n",
      "Requirement already satisfied: recommonmark in /opt/miniconda3/lib/python3.12/site-packages (from deepforest) (0.7.1)\r\n",
      "Requirement already satisfied: rtree in /opt/miniconda3/lib/python3.12/site-packages (from deepforest) (1.3.0)\r\n",
      "Requirement already satisfied: safetensors in /opt/miniconda3/lib/python3.12/site-packages (from deepforest) (0.4.5)\r\n",
      "Requirement already satisfied: scipy>1.5 in /opt/miniconda3/lib/python3.12/site-packages (from deepforest) (1.13.1)\r\n",
      "Requirement already satisfied: six in /opt/miniconda3/lib/python3.12/site-packages (from deepforest) (1.16.0)\r\n",
      "Requirement already satisfied: slidingwindow in /opt/miniconda3/lib/python3.12/site-packages (from deepforest) (0.0.14)\r\n",
      "Requirement already satisfied: sphinx in /opt/miniconda3/lib/python3.12/site-packages (from deepforest) (8.1.3)\r\n",
      "Requirement already satisfied: supervision in /opt/miniconda3/lib/python3.12/site-packages (from deepforest) (0.25.0)\r\n",
      "Requirement already satisfied: torch in /opt/miniconda3/lib/python3.12/site-packages (from deepforest) (2.5.1)\r\n",
      "Requirement already satisfied: torchvision>=0.13 in /opt/miniconda3/lib/python3.12/site-packages (from deepforest) (0.20.1)\r\n",
      "Requirement already satisfied: tqdm in /opt/miniconda3/lib/python3.12/site-packages (from deepforest) (4.66.4)\r\n",
      "Requirement already satisfied: xmltodict in /opt/miniconda3/lib/python3.12/site-packages (from deepforest) (0.14.2)\r\n",
      "Requirement already satisfied: PyYAML in /opt/miniconda3/lib/python3.12/site-packages (from albumentations>=1.0.0->deepforest) (6.0.1)\r\n",
      "Requirement already satisfied: pydantic>=2.7.0 in /opt/miniconda3/lib/python3.12/site-packages (from albumentations>=1.0.0->deepforest) (2.9.2)\r\n",
      "Requirement already satisfied: albucore==0.0.20 in /opt/miniconda3/lib/python3.12/site-packages (from albumentations>=1.0.0->deepforest) (0.0.20)\r\n",
      "Requirement already satisfied: eval-type-backport in /opt/miniconda3/lib/python3.12/site-packages (from albumentations>=1.0.0->deepforest) (0.2.0)\r\n",
      "Requirement already satisfied: stringzilla>=3.10.4 in /opt/miniconda3/lib/python3.12/site-packages (from albucore==0.0.20->albumentations>=1.0.0->deepforest) (3.10.10)\r\n",
      "Requirement already satisfied: simsimd>=5.9.2 in /opt/miniconda3/lib/python3.12/site-packages (from albucore==0.0.20->albumentations>=1.0.0->deepforest) (6.0.5)\r\n",
      "Requirement already satisfied: filelock in /opt/miniconda3/lib/python3.12/site-packages (from huggingface-hub>=0.25.0->deepforest) (3.16.1)\r\n",
      "Requirement already satisfied: fsspec>=2023.5.0 in /opt/miniconda3/lib/python3.12/site-packages (from huggingface-hub>=0.25.0->deepforest) (2024.10.0)\r\n",
      "Requirement already satisfied: packaging>=20.9 in /opt/miniconda3/lib/python3.12/site-packages (from huggingface-hub>=0.25.0->deepforest) (23.2)\r\n",
      "Requirement already satisfied: requests in /opt/miniconda3/lib/python3.12/site-packages (from huggingface-hub>=0.25.0->deepforest) (2.32.2)\r\n",
      "Requirement already satisfied: typing-extensions>=3.7.4.3 in /opt/miniconda3/lib/python3.12/site-packages (from huggingface-hub>=0.25.0->deepforest) (4.11.0)\r\n",
      "Requirement already satisfied: torchmetrics>=0.7.0 in /opt/miniconda3/lib/python3.12/site-packages (from pytorch-lightning>=1.5.8->deepforest) (1.6.0)\r\n",
      "Requirement already satisfied: lightning-utilities>=0.10.0 in /opt/miniconda3/lib/python3.12/site-packages (from pytorch-lightning>=1.5.8->deepforest) (0.11.8)\r\n",
      "Requirement already satisfied: networkx in /opt/miniconda3/lib/python3.12/site-packages (from torch->deepforest) (3.4.2)\r\n",
      "Requirement already satisfied: jinja2 in /opt/miniconda3/lib/python3.12/site-packages (from torch->deepforest) (3.1.4)\r\n",
      "Requirement already satisfied: setuptools in /opt/miniconda3/lib/python3.12/site-packages (from torch->deepforest) (75.5.0)\r\n",
      "Requirement already satisfied: sympy==1.13.1 in /opt/miniconda3/lib/python3.12/site-packages (from torch->deepforest) (1.13.1)\r\n",
      "Requirement already satisfied: mpmath<1.4,>=1.1.0 in /opt/miniconda3/lib/python3.12/site-packages (from sympy==1.13.1->torch->deepforest) (1.3.0)\r\n",
      "Requirement already satisfied: aiohappyeyeballs>=2.3.0 in /opt/miniconda3/lib/python3.12/site-packages (from aiohttp->deepforest) (2.4.3)\r\n",
      "Requirement already satisfied: aiosignal>=1.1.2 in /opt/miniconda3/lib/python3.12/site-packages (from aiohttp->deepforest) (1.3.1)\r\n",
      "Requirement already satisfied: attrs>=17.3.0 in /opt/miniconda3/lib/python3.12/site-packages (from aiohttp->deepforest) (23.1.0)\r\n",
      "Requirement already satisfied: frozenlist>=1.1.1 in /opt/miniconda3/lib/python3.12/site-packages (from aiohttp->deepforest) (1.5.0)\r\n",
      "Requirement already satisfied: multidict<7.0,>=4.5 in /opt/miniconda3/lib/python3.12/site-packages (from aiohttp->deepforest) (6.1.0)\r\n",
      "Requirement already satisfied: propcache>=0.2.0 in /opt/miniconda3/lib/python3.12/site-packages (from aiohttp->deepforest) (0.2.0)\r\n",
      "Requirement already satisfied: yarl<2.0,>=1.17.0 in /opt/miniconda3/lib/python3.12/site-packages (from aiohttp->deepforest) (1.17.1)\r\n",
      "Requirement already satisfied: charset_normalizer<4.0.0,>=3.0.0 in /opt/miniconda3/lib/python3.12/site-packages (from docformatter->deepforest) (3.3.2)\r\n",
      "Requirement already satisfied: untokenize<0.2.0,>=0.1.1 in /opt/miniconda3/lib/python3.12/site-packages (from docformatter->deepforest) (0.1.1)\r\n",
      "Requirement already satisfied: pyogrio>=0.7.2 in /opt/miniconda3/lib/python3.12/site-packages (from geopandas->deepforest) (0.10.0)\r\n",
      "Requirement already satisfied: pyproj>=3.3.0 in /opt/miniconda3/lib/python3.12/site-packages (from geopandas->deepforest) (3.7.0)\r\n",
      "Requirement already satisfied: shapely>=2.0.0 in /opt/miniconda3/lib/python3.12/site-packages (from geopandas->deepforest) (2.0.6)\r\n",
      "Requirement already satisfied: python-dateutil>=2.8.2 in /opt/miniconda3/lib/python3.12/site-packages (from pandas->deepforest) (2.9.0.post0)\r\n",
      "Requirement already satisfied: pytz>=2020.1 in /opt/miniconda3/lib/python3.12/site-packages (from pandas->deepforest) (2024.1)\r\n",
      "Requirement already satisfied: tzdata>=2022.7 in /opt/miniconda3/lib/python3.12/site-packages (from pandas->deepforest) (2024.1)\r\n",
      "Requirement already satisfied: contourpy>=1.0.1 in /opt/miniconda3/lib/python3.12/site-packages (from matplotlib->deepforest) (1.2.0)\r\n",
      "Requirement already satisfied: cycler>=0.10 in /opt/miniconda3/lib/python3.12/site-packages (from matplotlib->deepforest) (0.11.0)\r\n",
      "Requirement already satisfied: fonttools>=4.22.0 in /opt/miniconda3/lib/python3.12/site-packages (from matplotlib->deepforest) (4.51.0)\r\n",
      "Requirement already satisfied: kiwisolver>=1.3.1 in /opt/miniconda3/lib/python3.12/site-packages (from matplotlib->deepforest) (1.4.4)\r\n",
      "Requirement already satisfied: pyparsing>=2.3.1 in /opt/miniconda3/lib/python3.12/site-packages (from matplotlib->deepforest) (3.0.9)\r\n",
      "Requirement already satisfied: autopep8>=1.5 in /opt/miniconda3/lib/python3.12/site-packages (from nbqa->deepforest) (2.3.1)\r\n",
      "Requirement already satisfied: ipython>=7.8.0 in /opt/miniconda3/lib/python3.12/site-packages (from nbqa->deepforest) (8.25.0)\r\n",
      "Requirement already satisfied: tokenize-rt>=3.2.0 in /opt/miniconda3/lib/python3.12/site-packages (from nbqa->deepforest) (6.1.0)\r\n",
      "Requirement already satisfied: tomli in /opt/miniconda3/lib/python3.12/site-packages (from nbqa->deepforest) (2.1.0)\r\n",
      "Requirement already satisfied: python-utils>=3.8.1 in /opt/miniconda3/lib/python3.12/site-packages (from progressbar2->deepforest) (3.9.0)\r\n",
      "Requirement already satisfied: beautifulsoup4 in /opt/miniconda3/lib/python3.12/site-packages (from pydata-sphinx-theme->deepforest) (4.12.3)\r\n",
      "Requirement already satisfied: docutils!=0.17.0 in /opt/miniconda3/lib/python3.12/site-packages (from pydata-sphinx-theme->deepforest) (0.21.2)\r\n",
      "Requirement already satisfied: Babel in /opt/miniconda3/lib/python3.12/site-packages (from pydata-sphinx-theme->deepforest) (2.16.0)\r\n",
      "Requirement already satisfied: accessible-pygments in /opt/miniconda3/lib/python3.12/site-packages (from pydata-sphinx-theme->deepforest) (0.0.5)\r\n",
      "Requirement already satisfied: sphinxcontrib-applehelp>=1.0.7 in /opt/miniconda3/lib/python3.12/site-packages (from sphinx->deepforest) (2.0.0)\r\n",
      "Requirement already satisfied: sphinxcontrib-devhelp>=1.0.6 in /opt/miniconda3/lib/python3.12/site-packages (from sphinx->deepforest) (2.0.0)\r\n",
      "Requirement already satisfied: sphinxcontrib-htmlhelp>=2.0.6 in /opt/miniconda3/lib/python3.12/site-packages (from sphinx->deepforest) (2.1.0)\r\n",
      "Requirement already satisfied: sphinxcontrib-jsmath>=1.0.1 in /opt/miniconda3/lib/python3.12/site-packages (from sphinx->deepforest) (1.0.1)\r\n",
      "Requirement already satisfied: sphinxcontrib-qthelp>=1.0.6 in /opt/miniconda3/lib/python3.12/site-packages (from sphinx->deepforest) (2.0.0)\r\n",
      "Requirement already satisfied: sphinxcontrib-serializinghtml>=1.1.9 in /opt/miniconda3/lib/python3.12/site-packages (from sphinx->deepforest) (2.0.0)\r\n",
      "Requirement already satisfied: snowballstemmer>=2.2 in /opt/miniconda3/lib/python3.12/site-packages (from sphinx->deepforest) (2.2.0)\r\n",
      "Requirement already satisfied: alabaster>=0.7.14 in /opt/miniconda3/lib/python3.12/site-packages (from sphinx->deepforest) (1.0.0)\r\n",
      "Requirement already satisfied: imagesize>=1.3 in /opt/miniconda3/lib/python3.12/site-packages (from sphinx->deepforest) (1.4.1)\r\n",
      "Requirement already satisfied: affine in /opt/miniconda3/lib/python3.12/site-packages (from rasterio->deepforest) (2.4.0)\r\n",
      "Requirement already satisfied: certifi in /opt/miniconda3/lib/python3.12/site-packages (from rasterio->deepforest) (2024.8.30)\r\n",
      "Requirement already satisfied: click>=4.0 in /opt/miniconda3/lib/python3.12/site-packages (from rasterio->deepforest) (8.1.7)\r\n",
      "Requirement already satisfied: cligj>=0.5 in /opt/miniconda3/lib/python3.12/site-packages (from rasterio->deepforest) (0.7.2)\r\n",
      "Requirement already satisfied: snuggs>=1.4.1 in /opt/miniconda3/lib/python3.12/site-packages (from rasterio->deepforest) (1.4.7)\r\n",
      "Requirement already satisfied: click-plugins in /opt/miniconda3/lib/python3.12/site-packages (from rasterio->deepforest) (1.1.1)\r\n",
      "Requirement already satisfied: commonmark>=0.8.1 in /opt/miniconda3/lib/python3.12/site-packages (from recommonmark->deepforest) (0.9.1)\r\n",
      "Requirement already satisfied: psutil in /opt/miniconda3/lib/python3.12/site-packages (from slidingwindow->deepforest) (5.9.0)\r\n",
      "Requirement already satisfied: defusedxml<0.8.0,>=0.7.1 in /opt/miniconda3/lib/python3.12/site-packages (from supervision->deepforest) (0.7.1)\r\n",
      "Requirement already satisfied: opencv-python>=4.5.5.64 in /opt/miniconda3/lib/python3.12/site-packages (from supervision->deepforest) (4.10.0.84)\r\n",
      "Requirement already satisfied: pycodestyle>=2.12.0 in /opt/miniconda3/lib/python3.12/site-packages (from autopep8>=1.5->nbqa->deepforest) (2.12.1)\r\n",
      "Requirement already satisfied: decorator in /opt/miniconda3/lib/python3.12/site-packages (from ipython>=7.8.0->nbqa->deepforest) (5.1.1)\r\n",
      "Requirement already satisfied: jedi>=0.16 in /opt/miniconda3/lib/python3.12/site-packages (from ipython>=7.8.0->nbqa->deepforest) (0.19.1)\r\n",
      "Requirement already satisfied: matplotlib-inline in /opt/miniconda3/lib/python3.12/site-packages (from ipython>=7.8.0->nbqa->deepforest) (0.1.6)\r\n",
      "Requirement already satisfied: prompt-toolkit<3.1.0,>=3.0.41 in /opt/miniconda3/lib/python3.12/site-packages (from ipython>=7.8.0->nbqa->deepforest) (3.0.43)\r\n",
      "Requirement already satisfied: stack-data in /opt/miniconda3/lib/python3.12/site-packages (from ipython>=7.8.0->nbqa->deepforest) (0.2.0)\r\n",
      "Requirement already satisfied: traitlets>=5.13.0 in /opt/miniconda3/lib/python3.12/site-packages (from ipython>=7.8.0->nbqa->deepforest) (5.14.3)\r\n",
      "Requirement already satisfied: pexpect>4.3 in /opt/miniconda3/lib/python3.12/site-packages (from ipython>=7.8.0->nbqa->deepforest) (4.8.0)\r\n",
      "Requirement already satisfied: MarkupSafe>=2.0 in /opt/miniconda3/lib/python3.12/site-packages (from jinja2->torch->deepforest) (2.1.3)\r\n",
      "Requirement already satisfied: annotated-types>=0.6.0 in /opt/miniconda3/lib/python3.12/site-packages (from pydantic>=2.7.0->albumentations>=1.0.0->deepforest) (0.7.0)\r\n",
      "Requirement already satisfied: pydantic-core==2.23.4 in /opt/miniconda3/lib/python3.12/site-packages (from pydantic>=2.7.0->albumentations>=1.0.0->deepforest) (2.23.4)\r\n",
      "Requirement already satisfied: idna<4,>=2.5 in /opt/miniconda3/lib/python3.12/site-packages (from requests->huggingface-hub>=0.25.0->deepforest) (3.7)\r\n",
      "Requirement already satisfied: urllib3<3,>=1.21.1 in /opt/miniconda3/lib/python3.12/site-packages (from requests->huggingface-hub>=0.25.0->deepforest) (2.2.2)\r\n",
      "Requirement already satisfied: soupsieve>1.2 in /opt/miniconda3/lib/python3.12/site-packages (from beautifulsoup4->pydata-sphinx-theme->deepforest) (2.5)\r\n",
      "Requirement already satisfied: parso<0.9.0,>=0.8.3 in /opt/miniconda3/lib/python3.12/site-packages (from jedi>=0.16->ipython>=7.8.0->nbqa->deepforest) (0.8.3)\r\n",
      "Requirement already satisfied: ptyprocess>=0.5 in /opt/miniconda3/lib/python3.12/site-packages (from pexpect>4.3->ipython>=7.8.0->nbqa->deepforest) (0.7.0)\r\n",
      "Requirement already satisfied: wcwidth in /opt/miniconda3/lib/python3.12/site-packages (from prompt-toolkit<3.1.0,>=3.0.41->ipython>=7.8.0->nbqa->deepforest) (0.2.5)\r\n",
      "Requirement already satisfied: executing in /opt/miniconda3/lib/python3.12/site-packages (from stack-data->ipython>=7.8.0->nbqa->deepforest) (0.8.3)\r\n",
      "Requirement already satisfied: asttokens in /opt/miniconda3/lib/python3.12/site-packages (from stack-data->ipython>=7.8.0->nbqa->deepforest) (2.0.5)\r\n",
      "Requirement already satisfied: pure-eval in /opt/miniconda3/lib/python3.12/site-packages (from stack-data->ipython>=7.8.0->nbqa->deepforest) (0.2.2)\r\n",
      "Note: you may need to restart the kernel to use updated packages.\n"
     ]
    }
   ],
   "execution_count": 22
  },
  {
   "metadata": {
    "ExecuteTime": {
     "end_time": "2024-11-20T02:00:20.133221Z",
     "start_time": "2024-11-20T02:00:06.396076Z"
    }
   },
   "cell_type": "code",
   "source": [
    "from deepforest import main\n",
    "\n",
    "# Test initialization\n",
    "model = main.deepforest()\n",
    "print(\"DeepForest initialized successfully.\")\n"
   ],
   "outputs": [
    {
     "name": "stdout",
     "output_type": "stream",
     "text": [
      "Reading config file: /opt/miniconda3/lib/python3.12/site-packages/deepforest/data/deepforest_config.yml\n"
     ]
    },
    {
     "name": "stderr",
     "output_type": "stream",
     "text": [
      "Downloading: \"https://download.pytorch.org/models/retinanet_resnet50_fpn_coco-eeacb38b.pth\" to /Users/chriswinlee/.cache/torch/hub/checkpoints/retinanet_resnet50_fpn_coco-eeacb38b.pth\n",
      "100%|██████████| 130M/130M [00:09<00:00, 15.1MB/s] \n",
      "GPU available: True (mps), used: True\n",
      "TPU available: False, using: 0 TPU cores\n",
      "HPU available: False, using: 0 HPUs\n"
     ]
    },
    {
     "name": "stdout",
     "output_type": "stream",
     "text": [
      "DeepForest initialized successfully.\n"
     ]
    }
   ],
   "execution_count": 24
  },
  {
   "cell_type": "code",
   "metadata": {
    "collapsed": true,
    "ExecuteTime": {
     "end_time": "2024-11-20T02:01:03.919121Z",
     "start_time": "2024-11-20T02:01:03.888094Z"
    }
   },
   "source": [
    "# Load model \n",
    "#model = deepforest.deepforest(saved_model = os.getcwd()+'/data/model/deepforest/final_model_4000_epochs_35.h5')"
   ],
   "outputs": [
    {
     "ename": "AttributeError",
     "evalue": "type object 'deepforest' has no attribute 'deepforest'",
     "output_type": "error",
     "traceback": [
      "\u001B[0;31m---------------------------------------------------------------------------\u001B[0m",
      "\u001B[0;31mAttributeError\u001B[0m                            Traceback (most recent call last)",
      "Cell \u001B[0;32mIn[25], line 2\u001B[0m\n\u001B[1;32m      1\u001B[0m \u001B[38;5;66;03m# Load model \u001B[39;00m\n\u001B[0;32m----> 2\u001B[0m model \u001B[38;5;241m=\u001B[39m deepforest\u001B[38;5;241m.\u001B[39mdeepforest(saved_model \u001B[38;5;241m=\u001B[39m os\u001B[38;5;241m.\u001B[39mgetcwd()\u001B[38;5;241m+\u001B[39m\u001B[38;5;124m'\u001B[39m\u001B[38;5;124m/data/model/deepforest/final_model_4000_epochs_35.h5\u001B[39m\u001B[38;5;124m'\u001B[39m)\n",
      "\u001B[0;31mAttributeError\u001B[0m: type object 'deepforest' has no attribute 'deepforest'"
     ]
    }
   ],
   "execution_count": 25
  },
  {
   "cell_type": "code",
   "metadata": {
    "scrolled": true,
    "ExecuteTime": {
     "end_time": "2024-11-20T02:01:11.538370Z",
     "start_time": "2024-11-20T02:01:11.500830Z"
    }
   },
   "source": [
    "# Detect trees per tile and return bounding box annotations for each site\n",
    "column_names = ['img_path', 'xmin', 'ymin', 'xmax', 'ymax', 'score']\n",
    "\n",
    "dir = os.path.join(os.getcwd(), 'data')\n",
    "tiles_dir = os.path.join(dir,'tiles')\n",
    "ann_dir = os.path.join(dir,'annotations')\n",
    "\n",
    "if not os.path.exists(ann_dir):\n",
    "    os.makedirs(ann_dir)\n",
    "\n",
    "for folder in os.listdir(tiles_dir):\n",
    "    if not (folder.startswith('.') or folder.startswith('ortho_data.csv')):\n",
    "        file_path = ann_dir + '/{}_annotations.csv'.format(folder)\n",
    "        if not os.path.exists(file_path):\n",
    "            annotations_files = pd.DataFrame(columns = column_names)\n",
    "            folder_path = os.path.join(tiles_dir,folder)\n",
    "            \n",
    "            for file in os.listdir(folder_path):\n",
    "                if not file.startswith('.'):\n",
    "                    tile_annotations = get_annotations(os.path.join(folder_path, file), model)\n",
    "                    annotations_files = pd.concat([annotations_files, tile_annotations])\n",
    "            annotations_files = annotations_files.reset_index(drop=True)\n",
    "\n",
    "            annotations_files.to_csv(file_path, index=False)\n",
    "        print('DeepForest annotations are saved for site {}'.format(folder))\n"
   ],
   "outputs": [
    {
     "name": "stdout",
     "output_type": "stream",
     "text": [
      "DeepForest annotations are saved for site Carlos Vera Arteaga RGB\n",
      "DeepForest annotations are saved for site Carlos Vera Guevara RGB\n",
      "DeepForest annotations are saved for site Leonor Aspiazu RGB\n",
      "DeepForest annotations are saved for site Flora Pluas RGB\n"
     ]
    },
    {
     "ename": "TypeError",
     "evalue": "deepforest.predict_image() got an unexpected keyword argument 'image_path'",
     "output_type": "error",
     "traceback": [
      "\u001B[0;31m---------------------------------------------------------------------------\u001B[0m",
      "\u001B[0;31mTypeError\u001B[0m                                 Traceback (most recent call last)",
      "Cell \u001B[0;32mIn[26], line 20\u001B[0m\n\u001B[1;32m     18\u001B[0m \u001B[38;5;28;01mfor\u001B[39;00m file \u001B[38;5;129;01min\u001B[39;00m os\u001B[38;5;241m.\u001B[39mlistdir(folder_path):\n\u001B[1;32m     19\u001B[0m     \u001B[38;5;28;01mif\u001B[39;00m \u001B[38;5;129;01mnot\u001B[39;00m file\u001B[38;5;241m.\u001B[39mstartswith(\u001B[38;5;124m'\u001B[39m\u001B[38;5;124m.\u001B[39m\u001B[38;5;124m'\u001B[39m):\n\u001B[0;32m---> 20\u001B[0m         tile_annotations \u001B[38;5;241m=\u001B[39m get_annotations(os\u001B[38;5;241m.\u001B[39mpath\u001B[38;5;241m.\u001B[39mjoin(folder_path, file), model)\n\u001B[1;32m     21\u001B[0m         annotations_files \u001B[38;5;241m=\u001B[39m pd\u001B[38;5;241m.\u001B[39mconcat([annotations_files, tile_annotations])\n\u001B[1;32m     22\u001B[0m annotations_files \u001B[38;5;241m=\u001B[39m annotations_files\u001B[38;5;241m.\u001B[39mreset_index(drop\u001B[38;5;241m=\u001B[39m\u001B[38;5;28;01mTrue\u001B[39;00m)\n",
      "File \u001B[0;32m~/ReforesTree/utils/deepforest_detection.py:62\u001B[0m, in \u001B[0;36mget_annotations\u001B[0;34m(image_path, test_model, score_threshold)\u001B[0m\n\u001B[1;32m     58\u001B[0m tile_annotations \u001B[38;5;241m=\u001B[39m pd\u001B[38;5;241m.\u001B[39mDataFrame(columns\u001B[38;5;241m=\u001B[39mcolumn_names)\n\u001B[1;32m     60\u001B[0m base \u001B[38;5;241m=\u001B[39m os\u001B[38;5;241m.\u001B[39mpath\u001B[38;5;241m.\u001B[39mbasename(image_path)\n\u001B[0;32m---> 62\u001B[0m annotations \u001B[38;5;241m=\u001B[39m test_predict_boxes(image_path, test_model, score_threshold)\n\u001B[1;32m     63\u001B[0m \u001B[38;5;28;01mif\u001B[39;00m \u001B[38;5;28mlen\u001B[39m(annotations) \u001B[38;5;241m>\u001B[39m \u001B[38;5;241m0\u001B[39m:\n\u001B[1;32m     64\u001B[0m     \u001B[38;5;28;01mfor\u001B[39;00m index, row \u001B[38;5;129;01min\u001B[39;00m annotations\u001B[38;5;241m.\u001B[39miterrows():\n",
      "File \u001B[0;32m~/ReforesTree/utils/deepforest_detection.py:35\u001B[0m, in \u001B[0;36mtest_predict_boxes\u001B[0;34m(image_path, test_model, score_threshold)\u001B[0m\n\u001B[1;32m     23\u001B[0m \u001B[38;5;250m\u001B[39m\u001B[38;5;124;03m\"\"\"\u001B[39;00m\n\u001B[1;32m     24\u001B[0m \u001B[38;5;124;03mReturns the tree detections by DeepForest model.\u001B[39;00m\n\u001B[1;32m     25\u001B[0m \u001B[38;5;124;03mArgs:\u001B[39;00m\n\u001B[0;32m   (...)\u001B[0m\n\u001B[1;32m     32\u001B[0m \n\u001B[1;32m     33\u001B[0m \u001B[38;5;124;03m\"\"\"\u001B[39;00m\n\u001B[1;32m     34\u001B[0m \u001B[38;5;66;03m# Predict test image and return boxes\u001B[39;00m\n\u001B[0;32m---> 35\u001B[0m boxes \u001B[38;5;241m=\u001B[39m test_model\u001B[38;5;241m.\u001B[39mpredict_image(image_path\u001B[38;5;241m=\u001B[39mget_data(image_path),\n\u001B[1;32m     36\u001B[0m                                  show\u001B[38;5;241m=\u001B[39m\u001B[38;5;28;01mFalse\u001B[39;00m,\n\u001B[1;32m     37\u001B[0m                                  return_plot\u001B[38;5;241m=\u001B[39m\u001B[38;5;28;01mFalse\u001B[39;00m,\n\u001B[1;32m     38\u001B[0m                                  score_threshold\u001B[38;5;241m=\u001B[39mscore_threshold)\n\u001B[1;32m     40\u001B[0m \u001B[38;5;66;03m# Returns a 6 column numpy array, xmin, ymin, xmax, ymax, score, label\u001B[39;00m\n\u001B[1;32m     41\u001B[0m \u001B[38;5;28;01massert\u001B[39;00m boxes\u001B[38;5;241m.\u001B[39mshape[\u001B[38;5;241m1\u001B[39m] \u001B[38;5;241m==\u001B[39m \u001B[38;5;241m6\u001B[39m\n",
      "\u001B[0;31mTypeError\u001B[0m: deepforest.predict_image() got an unexpected keyword argument 'image_path'"
     ]
    }
   ],
   "execution_count": 26
  },
  {
   "cell_type": "markdown",
   "metadata": {},
   "source": [
    "#### Additional tile information per bounding box annotation\n",
    "\n",
    "For each tree annotation we add tree location, tile position, and site."
   ]
  },
  {
   "cell_type": "code",
   "metadata": {
    "scrolled": true
   },
   "source": [
    "for site_name in list_sites:\n",
    "    for file in os.listdir(ann_dir):\n",
    "        if (file == '{}_annotations.csv'.format(site_name)):\n",
    "            file_path = os.path.join(ann_dir,file)\n",
    "            df = pd.read_csv(file_path)\n",
    "            \n",
    "            if not ('Xmin' in df.columns): # in case you have done this before\n",
    "                df['img_name'], df['tile_index'], df['tile_xmin'], df['tile_ymin'], df['tile_xmax'], df['tile_ymax'] = zip(*df['img_path'].map(expand_tile_features))\n",
    "                df[['x', 'y']] = df.apply(lambda x: [get_center(x.xmin,x.xmax), get_center(x.ymin,x.ymax)], axis=1, result_type=\"expand\")\n",
    "\n",
    "                df['Xmin'] = df.xmin + df.tile_xmin\n",
    "                df['Ymin'] = df.ymin + df.tile_ymin\n",
    "                df['Xmax'] = df.xmax + df.tile_xmin\n",
    "                df['Ymax'] = df.ymax + df.tile_ymin\n",
    "                df['X'] = df.x + df.tile_xmin\n",
    "                df['Y'] = df.y + df.tile_ymin\n",
    "\n",
    "                df[['lon', 'lat']] = df.apply(lambda x: convert_xy_tile_to_lonlat(x.img_name, x.tile_xmin, x.tile_ymin, x.x, x.y, ortho_data), axis=1, result_type=\"expand\")\n",
    "                df.to_csv(file_path, index = False)\n",
    "            print('Added info for {}'.format(site_name))\n",
    "        "
   ],
   "outputs": [],
   "execution_count": null
  },
  {
   "cell_type": "code",
   "metadata": {},
   "source": [
    "# Merge annotations files of each site into one file\n",
    "all_annotations = pd.DataFrame()\n",
    "\n",
    "for file in os.listdir(ann_dir):\n",
    "    if not (file.startswith('.') or file.startswith('c') or file.startswith('a')):\n",
    "        file_path = os.path.join(ann_dir, file)\n",
    "        df = pd.read_csv(file_path)\n",
    "        all_annotations = pd.concat([all_annotations, df])\n",
    "all_annotations.to_csv(os.path.join(ann_dir,'all_annotations.csv'))"
   ],
   "outputs": [],
   "execution_count": null
  },
  {
   "cell_type": "markdown",
   "metadata": {},
   "source": [
    "### 🍌 Cleaned bounding boxes\n",
    "As part of our work, we have manually cleaned the bounding boxes coming out of deepforest. This was done in two parts; one filtering out bboxes that were not of trees, due to size (e.g. too large area or only of a leaf) or due to wrong detection (of a car or grass). The second part consisted of labelling the trees as either \"banana\" (easily recognizable looking like a palm tree) or \"other\". \n",
    "\n",
    "Please find the cleaned dataset in \"_data/annotations/cleaned_\"."
   ]
  },
  {
   "cell_type": "code",
   "metadata": {},
   "source": [
    "clean_annotations = pd.read_csv('data/annotations/cleaned/clean_annotations.csv')\n",
    "clean_annotations.columns"
   ],
   "outputs": [],
   "execution_count": null
  },
  {
   "cell_type": "markdown",
   "metadata": {},
   "source": [
    "## ↔️ Matching of tree label + bounding box\n",
    "\n",
    "TBD"
   ]
  },
  {
   "cell_type": "code",
   "metadata": {},
   "source": [],
   "outputs": [],
   "execution_count": null
  }
 ],
 "metadata": {
  "kernelspec": {
   "display_name": "Python 3 (ipykernel)",
   "language": "python",
   "name": "python3"
  },
  "language_info": {
   "codemirror_mode": {
    "name": "ipython",
    "version": 3
   },
   "file_extension": ".py",
   "mimetype": "text/x-python",
   "name": "python",
   "nbconvert_exporter": "python",
   "pygments_lexer": "ipython3",
   "version": "3.7.10"
  }
 },
 "nbformat": 4,
 "nbformat_minor": 4
}
